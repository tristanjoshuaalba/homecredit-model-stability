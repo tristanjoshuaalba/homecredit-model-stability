{
 "cells": [
  {
   "cell_type": "markdown",
   "id": "7678b1c0-85b1-4485-a46c-e71bb07f6345",
   "metadata": {},
   "source": [
    "# HomeCredit Model Stability"
   ]
  },
  {
   "cell_type": "markdown",
   "id": "bd948ee3-7096-45c5-bc7f-c43e8959b9e3",
   "metadata": {},
   "source": [
    "## Importing Preliminaries"
   ]
  },
  {
   "cell_type": "code",
   "execution_count": 61,
   "id": "e9330ac5-eda3-4117-8c46-1aeee0171efc",
   "metadata": {},
   "outputs": [],
   "source": [
    "import pandas as pd\n",
    "import numpy as np\n",
    "import matplotlib.pyplot as plt\n",
    "import os\n",
    "\n",
    "import polars as pl\n",
    "import re"
   ]
  },
  {
   "cell_type": "code",
   "execution_count": 36,
   "id": "fcd57621-3520-497b-8d1e-379306e75c61",
   "metadata": {},
   "outputs": [
    {
     "name": "stdout",
     "output_type": "stream",
     "text": [
      "Collecting polars\n",
      "  Downloading polars-0.20.15-cp38-abi3-macosx_11_0_arm64.whl.metadata (15 kB)\n",
      "Downloading polars-0.20.15-cp38-abi3-macosx_11_0_arm64.whl (24.6 MB)\n",
      "\u001b[2K   \u001b[38;2;114;156;31m━━━━━━━━━━━━━━━━━━━━━━━━━━━━━━━━━━━━━━━━\u001b[0m \u001b[32m24.6/24.6 MB\u001b[0m \u001b[31m69.0 MB/s\u001b[0m eta \u001b[36m0:00:00\u001b[0mm eta \u001b[36m0:00:01\u001b[0m\u001b[36m0:00:01\u001b[0m\n",
      "\u001b[?25hInstalling collected packages: polars\n",
      "Successfully installed polars-0.20.15\n"
     ]
    }
   ],
   "source": [
    "! pip install polars"
   ]
  },
  {
   "cell_type": "markdown",
   "id": "0328b27a-d374-4f56-b3b7-faa1454b6450",
   "metadata": {},
   "source": [
    "## Downloading the Data"
   ]
  },
  {
   "cell_type": "code",
   "execution_count": 8,
   "id": "c23febfb-4e33-4780-a0bf-411949188ed3",
   "metadata": {},
   "outputs": [
    {
     "name": "stdout",
     "output_type": "stream",
     "text": [
      "Warning: Your Kaggle API key is readable by other users on this system! To fix this, you can run 'chmod 600 /Users/tristanjoshuaalba/.kaggle/kaggle.json'\n",
      "Downloading home-credit-credit-risk-model-stability.zip to /Users/tristanjoshuaalba/sandbox/homecredit-model-stability\n",
      "100%|█████████████████████████████████████▉| 3.14G/3.14G [01:57<00:00, 29.3MB/s]\n",
      "100%|██████████████████████████████████████| 3.14G/3.14G [01:57<00:00, 28.7MB/s]\n"
     ]
    }
   ],
   "source": [
    "!kaggle competitions download -c home-credit-credit-risk-model-stability"
   ]
  },
  {
   "cell_type": "code",
   "execution_count": 10,
   "id": "d5c3fa39-a7e1-484b-a504-c12a45ddf25e",
   "metadata": {},
   "outputs": [
    {
     "name": "stdout",
     "output_type": "stream",
     "text": [
      "Archive:  home-credit-credit-risk-model-stability.zip\n",
      "  inflating: csv_files/test/test_applprev_1_0.csv  \n",
      "  inflating: csv_files/test/test_applprev_1_1.csv  \n",
      "  inflating: csv_files/test/test_applprev_1_2.csv  \n",
      "  inflating: csv_files/test/test_applprev_2.csv  \n",
      "  inflating: csv_files/test/test_base.csv  \n",
      "  inflating: csv_files/test/test_credit_bureau_a_1_0.csv  \n",
      "  inflating: csv_files/test/test_credit_bureau_a_1_1.csv  \n",
      "  inflating: csv_files/test/test_credit_bureau_a_1_2.csv  \n",
      "  inflating: csv_files/test/test_credit_bureau_a_1_3.csv  \n",
      "  inflating: csv_files/test/test_credit_bureau_a_1_4.csv  \n",
      "  inflating: csv_files/test/test_credit_bureau_a_2_0.csv  \n",
      "  inflating: csv_files/test/test_credit_bureau_a_2_1.csv  \n",
      "  inflating: csv_files/test/test_credit_bureau_a_2_10.csv  \n",
      "  inflating: csv_files/test/test_credit_bureau_a_2_11.csv  \n",
      "  inflating: csv_files/test/test_credit_bureau_a_2_2.csv  \n",
      "  inflating: csv_files/test/test_credit_bureau_a_2_3.csv  \n",
      "  inflating: csv_files/test/test_credit_bureau_a_2_4.csv  \n",
      "  inflating: csv_files/test/test_credit_bureau_a_2_5.csv  \n",
      "  inflating: csv_files/test/test_credit_bureau_a_2_6.csv  \n",
      "  inflating: csv_files/test/test_credit_bureau_a_2_7.csv  \n",
      "  inflating: csv_files/test/test_credit_bureau_a_2_8.csv  \n",
      "  inflating: csv_files/test/test_credit_bureau_a_2_9.csv  \n",
      "  inflating: csv_files/test/test_credit_bureau_b_1.csv  \n",
      "  inflating: csv_files/test/test_credit_bureau_b_2.csv  \n",
      "  inflating: csv_files/test/test_debitcard_1.csv  \n",
      "  inflating: csv_files/test/test_deposit_1.csv  \n",
      "  inflating: csv_files/test/test_other_1.csv  \n",
      "  inflating: csv_files/test/test_person_1.csv  \n",
      "  inflating: csv_files/test/test_person_2.csv  \n",
      "  inflating: csv_files/test/test_static_0_0.csv  \n",
      "  inflating: csv_files/test/test_static_0_1.csv  \n",
      "  inflating: csv_files/test/test_static_0_2.csv  \n",
      "  inflating: csv_files/test/test_static_cb_0.csv  \n",
      "  inflating: csv_files/test/test_tax_registry_a_1.csv  \n",
      "  inflating: csv_files/test/test_tax_registry_b_1.csv  \n",
      "  inflating: csv_files/test/test_tax_registry_c_1.csv  \n",
      "  inflating: csv_files/train/train_applprev_1_0.csv  \n",
      "  inflating: csv_files/train/train_applprev_1_1.csv  \n",
      "  inflating: csv_files/train/train_applprev_2.csv  \n",
      "  inflating: csv_files/train/train_base.csv  \n",
      "  inflating: csv_files/train/train_credit_bureau_a_1_0.csv  \n",
      "  inflating: csv_files/train/train_credit_bureau_a_1_1.csv  \n",
      "  inflating: csv_files/train/train_credit_bureau_a_1_2.csv  \n",
      "  inflating: csv_files/train/train_credit_bureau_a_1_3.csv  \n",
      "  inflating: csv_files/train/train_credit_bureau_a_2_0.csv  \n",
      "  inflating: csv_files/train/train_credit_bureau_a_2_1.csv  \n",
      "  inflating: csv_files/train/train_credit_bureau_a_2_10.csv  \n",
      "  inflating: csv_files/train/train_credit_bureau_a_2_2.csv  \n",
      "  inflating: csv_files/train/train_credit_bureau_a_2_3.csv  \n",
      "  inflating: csv_files/train/train_credit_bureau_a_2_4.csv  \n",
      "  inflating: csv_files/train/train_credit_bureau_a_2_5.csv  \n",
      "  inflating: csv_files/train/train_credit_bureau_a_2_6.csv  \n",
      "  inflating: csv_files/train/train_credit_bureau_a_2_7.csv  \n",
      "  inflating: csv_files/train/train_credit_bureau_a_2_8.csv  \n",
      "  inflating: csv_files/train/train_credit_bureau_a_2_9.csv  \n",
      "  inflating: csv_files/train/train_credit_bureau_b_1.csv  \n",
      "  inflating: csv_files/train/train_credit_bureau_b_2.csv  \n",
      "  inflating: csv_files/train/train_debitcard_1.csv  \n",
      "  inflating: csv_files/train/train_deposit_1.csv  \n",
      "  inflating: csv_files/train/train_other_1.csv  \n",
      "  inflating: csv_files/train/train_person_1.csv  \n",
      "  inflating: csv_files/train/train_person_2.csv  \n",
      "  inflating: csv_files/train/train_static_0_0.csv  \n",
      "  inflating: csv_files/train/train_static_0_1.csv  \n",
      "  inflating: csv_files/train/train_static_cb_0.csv  \n",
      "  inflating: csv_files/train/train_tax_registry_a_1.csv  \n",
      "  inflating: csv_files/train/train_tax_registry_b_1.csv  \n",
      "  inflating: csv_files/train/train_tax_registry_c_1.csv  \n",
      "  inflating: feature_definitions.csv  \n",
      "  inflating: parquet_files/test/test_applprev_1_0.parquet  \n",
      "  inflating: parquet_files/test/test_applprev_1_1.parquet  \n",
      "  inflating: parquet_files/test/test_applprev_1_2.parquet  \n",
      "  inflating: parquet_files/test/test_applprev_2.parquet  \n",
      "  inflating: parquet_files/test/test_base.parquet  \n",
      "  inflating: parquet_files/test/test_credit_bureau_a_1_0.parquet  \n",
      "  inflating: parquet_files/test/test_credit_bureau_a_1_1.parquet  \n",
      "  inflating: parquet_files/test/test_credit_bureau_a_1_2.parquet  \n",
      "  inflating: parquet_files/test/test_credit_bureau_a_1_3.parquet  \n",
      "  inflating: parquet_files/test/test_credit_bureau_a_1_4.parquet  \n",
      "  inflating: parquet_files/test/test_credit_bureau_a_2_0.parquet  \n",
      "  inflating: parquet_files/test/test_credit_bureau_a_2_1.parquet  \n",
      "  inflating: parquet_files/test/test_credit_bureau_a_2_10.parquet  \n",
      "  inflating: parquet_files/test/test_credit_bureau_a_2_11.parquet  \n",
      "  inflating: parquet_files/test/test_credit_bureau_a_2_2.parquet  \n",
      "  inflating: parquet_files/test/test_credit_bureau_a_2_3.parquet  \n",
      "  inflating: parquet_files/test/test_credit_bureau_a_2_4.parquet  \n",
      "  inflating: parquet_files/test/test_credit_bureau_a_2_5.parquet  \n",
      "  inflating: parquet_files/test/test_credit_bureau_a_2_6.parquet  \n",
      "  inflating: parquet_files/test/test_credit_bureau_a_2_7.parquet  \n",
      "  inflating: parquet_files/test/test_credit_bureau_a_2_8.parquet  \n",
      "  inflating: parquet_files/test/test_credit_bureau_a_2_9.parquet  \n",
      "  inflating: parquet_files/test/test_credit_bureau_b_1.parquet  \n",
      "  inflating: parquet_files/test/test_credit_bureau_b_2.parquet  \n",
      "  inflating: parquet_files/test/test_debitcard_1.parquet  \n",
      "  inflating: parquet_files/test/test_deposit_1.parquet  \n",
      "  inflating: parquet_files/test/test_other_1.parquet  \n",
      "  inflating: parquet_files/test/test_person_1.parquet  \n",
      "  inflating: parquet_files/test/test_person_2.parquet  \n",
      "  inflating: parquet_files/test/test_static_0_0.parquet  \n",
      "  inflating: parquet_files/test/test_static_0_1.parquet  \n",
      "  inflating: parquet_files/test/test_static_0_2.parquet  \n",
      "  inflating: parquet_files/test/test_static_cb_0.parquet  \n",
      "  inflating: parquet_files/test/test_tax_registry_a_1.parquet  \n",
      "  inflating: parquet_files/test/test_tax_registry_b_1.parquet  \n",
      "  inflating: parquet_files/test/test_tax_registry_c_1.parquet  \n",
      "  inflating: parquet_files/train/train_applprev_1_0.parquet  \n",
      "  inflating: parquet_files/train/train_applprev_1_1.parquet  \n",
      "  inflating: parquet_files/train/train_applprev_2.parquet  \n",
      "  inflating: parquet_files/train/train_base.parquet  \n",
      "  inflating: parquet_files/train/train_credit_bureau_a_1_0.parquet  \n",
      "  inflating: parquet_files/train/train_credit_bureau_a_1_1.parquet  \n",
      "  inflating: parquet_files/train/train_credit_bureau_a_1_2.parquet  \n",
      "  inflating: parquet_files/train/train_credit_bureau_a_1_3.parquet  \n",
      "  inflating: parquet_files/train/train_credit_bureau_a_2_0.parquet  \n",
      "  inflating: parquet_files/train/train_credit_bureau_a_2_1.parquet  \n",
      "  inflating: parquet_files/train/train_credit_bureau_a_2_10.parquet  \n",
      "  inflating: parquet_files/train/train_credit_bureau_a_2_2.parquet  \n",
      "  inflating: parquet_files/train/train_credit_bureau_a_2_3.parquet  \n",
      "  inflating: parquet_files/train/train_credit_bureau_a_2_4.parquet  \n",
      "  inflating: parquet_files/train/train_credit_bureau_a_2_5.parquet  \n",
      "  inflating: parquet_files/train/train_credit_bureau_a_2_6.parquet  \n",
      "  inflating: parquet_files/train/train_credit_bureau_a_2_7.parquet  \n",
      "  inflating: parquet_files/train/train_credit_bureau_a_2_8.parquet  \n",
      "  inflating: parquet_files/train/train_credit_bureau_a_2_9.parquet  \n",
      "  inflating: parquet_files/train/train_credit_bureau_b_1.parquet  \n",
      "  inflating: parquet_files/train/train_credit_bureau_b_2.parquet  \n",
      "  inflating: parquet_files/train/train_debitcard_1.parquet  \n",
      "  inflating: parquet_files/train/train_deposit_1.parquet  \n",
      "  inflating: parquet_files/train/train_other_1.parquet  \n",
      "  inflating: parquet_files/train/train_person_1.parquet  \n",
      "  inflating: parquet_files/train/train_person_2.parquet  \n",
      "  inflating: parquet_files/train/train_static_0_0.parquet  \n",
      "  inflating: parquet_files/train/train_static_0_1.parquet  \n",
      "  inflating: parquet_files/train/train_static_cb_0.parquet  \n",
      "  inflating: parquet_files/train/train_tax_registry_a_1.parquet  \n",
      "  inflating: parquet_files/train/train_tax_registry_b_1.parquet  \n",
      "  inflating: parquet_files/train/train_tax_registry_c_1.parquet  \n",
      "  inflating: sample_submission.csv   \n"
     ]
    }
   ],
   "source": [
    "! unzip home-credit-credit-risk-model-stability.zip"
   ]
  },
  {
   "cell_type": "code",
   "execution_count": 41,
   "id": "fc6531b0-03c7-47e7-a774-6040a3dc85a6",
   "metadata": {},
   "outputs": [
    {
     "name": "stdout",
     "output_type": "stream",
     "text": [
      "File: train_credit_bureau_a_1_1.parquet, Size: 174.80 GB\n",
      "File: train_credit_bureau_a_1_2.parquet, Size: 117.78 GB\n",
      "File: train_static_0_0.parquet, Size: 108.58 GB\n",
      "File: train_applprev_1_0.parquet, Size: 102.00 GB\n",
      "File: train_static_0_1.parquet, Size: 71.23 GB\n",
      "File: train_applprev_1_1.parquet, Size: 69.49 GB\n",
      "File: train_credit_bureau_a_1_3.parquet, Size: 68.45 GB\n",
      "File: train_credit_bureau_a_1_0.parquet, Size: 61.86 GB\n",
      "File: train_credit_bureau_a_2_5.parquet, Size: 58.16 GB\n",
      "File: train_credit_bureau_a_2_4.parquet, Size: 46.95 GB\n",
      "File: train_credit_bureau_a_2_3.parquet, Size: 45.62 GB\n",
      "File: train_credit_bureau_a_2_6.parquet, Size: 43.09 GB\n",
      "File: train_person_1.parquet, Size: 41.86 GB\n",
      "File: train_credit_bureau_a_2_9.parquet, Size: 30.60 GB\n",
      "File: train_credit_bureau_a_2_2.parquet, Size: 29.25 GB\n",
      "File: train_static_cb_0.parquet, Size: 29.23 GB\n",
      "File: train_tax_registry_c_1.parquet, Size: 28.44 GB\n",
      "File: train_applprev_2.parquet, Size: 27.17 GB\n",
      "File: train_credit_bureau_a_2_8.parquet, Size: 22.73 GB\n",
      "File: train_tax_registry_a_1.parquet, Size: 20.68 GB\n",
      "File: train_credit_bureau_a_2_7.parquet, Size: 13.48 GB\n",
      "File: train_credit_bureau_a_2_1.parquet, Size: 9.54 GB\n",
      "File: train_tax_registry_b_1.parquet, Size: 9.46 GB\n",
      "File: train_credit_bureau_a_2_10.parquet, Size: 7.29 GB\n",
      "File: train_person_2.parquet, Size: 7.21 GB\n",
      "File: train_base.parquet, Size: 6.72 GB\n",
      "File: train_credit_bureau_a_2_0.parquet, Size: 5.52 GB\n",
      "File: train_credit_bureau_b_1.parquet, Size: 4.30 GB\n",
      "File: train_credit_bureau_b_2.parquet, Size: 1.97 GB\n",
      "File: train_deposit_1.parquet, Size: 1.52 GB\n",
      "File: train_debitcard_1.parquet, Size: 1.13 GB\n",
      "File: train_other_1.parquet, Size: 0.77 GB\n"
     ]
    }
   ],
   "source": [
    "# Define the directory path\n",
    "directory = os.getcwd()+'/parquet_files/train/'\n",
    "\n",
    "# Function to get file sizes in gigabytes\n",
    "def get_file_sizes(directory):\n",
    "    file_info = []\n",
    "    # Iterate through files in the directory\n",
    "    for filename in os.listdir(directory):\n",
    "        file_path = os.path.join(directory, filename)\n",
    "        # Check if it's a file (not a directory)\n",
    "        if os.path.isfile(file_path):\n",
    "            # Get file size in bytes\n",
    "            size_in_bytes = os.path.getsize(file_path)\n",
    "            # Convert size to gigabytes\n",
    "            size_in_gb = size_in_bytes / (1024**2)\n",
    "            file_info.append({'File': filename, 'Size (MB)': size_in_gb})\n",
    "    return file_info\n",
    "\n",
    "# Get file sizes into a list of dictionaries\n",
    "file_info = get_file_sizes(directory)\n",
    "\n",
    "# Sort files by size in gigabytes\n",
    "sorted_files = sorted(file_info, key=lambda x: x['Size (MB)'], reverse=True)\n",
    "\n",
    "# Display the sorted files\n",
    "for file_data in sorted_files:\n",
    "    print(f\"File: {file_data['File']}, Size: {file_data['Size (MB)']:.2f} GB\")"
   ]
  },
  {
   "cell_type": "code",
   "execution_count": 42,
   "id": "f8cfe7c4-ba88-4f1a-bc1e-d4b8df0f2c6b",
   "metadata": {},
   "outputs": [
    {
     "name": "stdout",
     "output_type": "stream",
     "text": [
      "Current working directory: /Users/tristanjoshuaalba/sandbox/homecredit-model-stability\n"
     ]
    }
   ],
   "source": [
    "# Get the current working directory\n",
    "directory = os.getcwd()\n",
    "\n",
    "print(\"Current working directory:\", directory)"
   ]
  },
  {
   "cell_type": "code",
   "execution_count": 44,
   "id": "a8bf6e04-6aa4-4cea-b47f-9fc3480e4f08",
   "metadata": {},
   "outputs": [
    {
     "data": {
      "text/html": [
       "<i>naive plan: (run <b>LazyFrame.explain(optimized=True)</b> to see the optimized plan)</i>\n",
       "    <p></p>\n",
       "    <div><p></p>  Parquet SCAN /Users/tristanjoshuaalba/sandbox/homecredit-model-stability/parquet_files/train/train_base.parquet<p></p>  PROJECT */5 COLUMNS</div>"
      ],
      "text/plain": [
       "<LazyFrame [5 cols, {\"case_id\": Int64 … \"target\": Int64}] at 0x12F5C32E0>"
      ]
     },
     "execution_count": 44,
     "metadata": {},
     "output_type": "execute_result"
    }
   ],
   "source": [
    "pl.scan_parquet(directory + \"/parquet_files/train/train_base.parquet\")  "
   ]
  },
  {
   "cell_type": "code",
   "execution_count": 47,
   "id": "686fe173-0dd4-42b2-9dec-85f76a4a8967",
   "metadata": {},
   "outputs": [],
   "source": [
    "df_base = pl.read_parquet(directory + \"/parquet_files/train/train_base.parquet\")a"
   ]
  },
  {
   "cell_type": "code",
   "execution_count": 48,
   "id": "b80becb5-7a98-4ef9-8f59-6513f146b8d6",
   "metadata": {},
   "outputs": [
    {
     "data": {
      "text/html": [
       "<div><style>\n",
       ".dataframe > thead > tr,\n",
       ".dataframe > tbody > tr {\n",
       "  text-align: right;\n",
       "  white-space: pre-wrap;\n",
       "}\n",
       "</style>\n",
       "<small>shape: (5, 5)</small><table border=\"1\" class=\"dataframe\"><thead><tr><th>case_id</th><th>date_decision</th><th>MONTH</th><th>WEEK_NUM</th><th>target</th></tr><tr><td>i64</td><td>str</td><td>i64</td><td>i64</td><td>i64</td></tr></thead><tbody><tr><td>0</td><td>&quot;2019-01-03&quot;</td><td>201901</td><td>0</td><td>0</td></tr><tr><td>1</td><td>&quot;2019-01-03&quot;</td><td>201901</td><td>0</td><td>0</td></tr><tr><td>2</td><td>&quot;2019-01-04&quot;</td><td>201901</td><td>0</td><td>0</td></tr><tr><td>3</td><td>&quot;2019-01-03&quot;</td><td>201901</td><td>0</td><td>0</td></tr><tr><td>4</td><td>&quot;2019-01-04&quot;</td><td>201901</td><td>0</td><td>1</td></tr></tbody></table></div>"
      ],
      "text/plain": [
       "shape: (5, 5)\n",
       "┌─────────┬───────────────┬────────┬──────────┬────────┐\n",
       "│ case_id ┆ date_decision ┆ MONTH  ┆ WEEK_NUM ┆ target │\n",
       "│ ---     ┆ ---           ┆ ---    ┆ ---      ┆ ---    │\n",
       "│ i64     ┆ str           ┆ i64    ┆ i64      ┆ i64    │\n",
       "╞═════════╪═══════════════╪════════╪══════════╪════════╡\n",
       "│ 0       ┆ 2019-01-03    ┆ 201901 ┆ 0        ┆ 0      │\n",
       "│ 1       ┆ 2019-01-03    ┆ 201901 ┆ 0        ┆ 0      │\n",
       "│ 2       ┆ 2019-01-04    ┆ 201901 ┆ 0        ┆ 0      │\n",
       "│ 3       ┆ 2019-01-03    ┆ 201901 ┆ 0        ┆ 0      │\n",
       "│ 4       ┆ 2019-01-04    ┆ 201901 ┆ 0        ┆ 1      │\n",
       "└─────────┴───────────────┴────────┴──────────┴────────┘"
      ]
     },
     "execution_count": 48,
     "metadata": {},
     "output_type": "execute_result"
    }
   ],
   "source": [
    "df_base.head()"
   ]
  },
  {
   "cell_type": "code",
   "execution_count": 121,
   "id": "b387fe19-ab7f-4083-a612-771ba1b881ba",
   "metadata": {},
   "outputs": [
    {
     "data": {
      "text/plain": [
       "['train_other_1',\n",
       " 'train_credit_bureau_a_1_1',\n",
       " 'train_static_0_1',\n",
       " 'train_tax_registry_c_1',\n",
       " 'train_person_1',\n",
       " 'train_credit_bureau_b_1',\n",
       " 'train_tax_registry_b_1',\n",
       " 'train_debitcard_1',\n",
       " 'train_applprev_1_1',\n",
       " 'train_tax_registry_a_1',\n",
       " 'train_deposit_1',\n",
       " 'train_credit_bureau_a_2_1']"
      ]
     },
     "execution_count": 121,
     "metadata": {},
     "output_type": "execute_result"
    }
   ],
   "source": [
    "[i for i in file_names if i.endswith((\"_1\",\"1_*\"))]"
   ]
  },
  {
   "cell_type": "code",
   "execution_count": 128,
   "id": "a2a75aa9-c07e-4bfa-8007-04599a1daf25",
   "metadata": {},
   "outputs": [],
   "source": [
    "file_names = os.listdir(directory + \"/parquet_files/train/\")\n",
    "file_names = [i.split(\".\")[0] for i in file_names]\n",
    "\n",
    "\n",
    "depth_0_files = [ 'train_static_0_0'\n",
    "                 ,'train_static_0_1'\n",
    "                 ,'train_static_cb_0']\n",
    "\n",
    "depth_1_files = ['train_applprev_1_0'\n",
    "                 , 'train_applprev_1_1'\n",
    "                 , 'train_tax_registry_a_1'\n",
    "                 , 'train_tax_registry_b_1'\n",
    "                 , 'train_tax_registry_c_1'\n",
    "                 , 'train_credit_bureau_a_1_0'\n",
    "                 , 'train_credit_bureau_a_1_1'\n",
    "                 , 'train_credit_bureau_a_1_2'\n",
    "                 , 'train_credit_bureau_a_1_3'\n",
    "                 , 'train_credit_bureau_b_1'\n",
    "                 , 'train_other_1'\n",
    "                 , 'train_person_1'\n",
    "                 , 'train_deposit_1'\n",
    "                 , 'train_debitcard_1']\n",
    "\n",
    "depth_2_files = ['train_credit_bureau_b_2'\n",
    "                 ,'train_credit_bureau_a_2_0'\n",
    "                 ,'train_credit_bureau_a_2_1'\n",
    "                 ,'train_credit_bureau_a_2_2'\n",
    "                 ,'train_credit_bureau_a_2_3'\n",
    "                 ,'train_credit_bureau_a_2_4'\n",
    "                 ,'train_credit_bureau_a_2_5'\n",
    "                 ,'train_credit_bureau_a_2_6'\n",
    "                 ,'train_credit_bureau_a_2_7'\n",
    "                 ,'train_credit_bureau_a_2_8'\n",
    "                 ,'train_credit_bureau_a_2_9'\n",
    "                 ,'train_credit_bureau_a_2_10'\n",
    "                 , 'train_person_2'\n",
    "                 , 'train_applprev_2']\n",
    "\n",
    "base_file = ['train_base']"
   ]
  },
  {
   "cell_type": "code",
   "execution_count": 131,
   "id": "ab86ab5b-cad8-427a-b457-4f5e2e5e6805",
   "metadata": {},
   "outputs": [
    {
     "data": {
      "text/plain": [
       "['train_static_0_0', 'train_static_0_1', 'train_static_cb_0']"
      ]
     },
     "execution_count": 131,
     "metadata": {},
     "output_type": "execute_result"
    }
   ],
   "source": [
    "depth_0_files"
   ]
  },
  {
   "cell_type": "code",
   "execution_count": 135,
   "id": "37c2fa16-e1f7-4210-94f5-dbb96d0c7df3",
   "metadata": {},
   "outputs": [],
   "source": [
    "d0 = dict()\n",
    "for file in depth_0_files:\n",
    "    d0[file+\"_df\"] = pl.read_parquet(directory+\"/parquet_files/train/\"+file+\".parquet\")"
   ]
  },
  {
   "cell_type": "code",
   "execution_count": 137,
   "id": "f0e2a2cc-4b1e-4fbc-9f58-94b99e608f2a",
   "metadata": {},
   "outputs": [
    {
     "data": {
      "text/html": [
       "<div><style>\n",
       ".dataframe > thead > tr,\n",
       ".dataframe > tbody > tr {\n",
       "  text-align: right;\n",
       "  white-space: pre-wrap;\n",
       "}\n",
       "</style>\n",
       "<small>shape: (1_003_757, 168)</small><table border=\"1\" class=\"dataframe\"><thead><tr><th>case_id</th><th>actualdpdtolerance_344P</th><th>amtinstpaidbefduel24m_4187115A</th><th>annuity_780A</th><th>annuitynextmonth_57A</th><th>applicationcnt_361L</th><th>applications30d_658L</th><th>applicationscnt_1086L</th><th>applicationscnt_464L</th><th>applicationscnt_629L</th><th>applicationscnt_867L</th><th>avgdbddpdlast24m_3658932P</th><th>avgdbddpdlast3m_4187120P</th><th>avgdbdtollast24m_4525197P</th><th>avgdpdtolclosure24_3658938P</th><th>avginstallast24m_3658937A</th><th>avglnamtstart24m_4525187A</th><th>avgmaxdpdlast9m_3716943P</th><th>avgoutstandbalancel6m_4187114A</th><th>avgpmtlast12m_4525200A</th><th>bankacctype_710L</th><th>cardtype_51L</th><th>clientscnt12m_3712952L</th><th>clientscnt3m_3712950L</th><th>clientscnt6m_3712949L</th><th>clientscnt_100L</th><th>clientscnt_1022L</th><th>clientscnt_1071L</th><th>clientscnt_1130L</th><th>clientscnt_136L</th><th>clientscnt_157L</th><th>clientscnt_257L</th><th>clientscnt_304L</th><th>clientscnt_360L</th><th>clientscnt_493L</th><th>clientscnt_533L</th><th>clientscnt_887L</th><th>&hellip;</th><th>numinstpaidearlyest_4493214L</th><th>numinstpaidlastcontr_4325080L</th><th>numinstpaidlate1d_3546852L</th><th>numinstregularpaid_973L</th><th>numinstregularpaidest_4493210L</th><th>numinsttopaygr_769L</th><th>numinsttopaygrest_4493213L</th><th>numinstunpaidmax_3546851L</th><th>numinstunpaidmaxest_4493212L</th><th>numnotactivated_1143L</th><th>numpmtchanneldd_318L</th><th>numrejects9m_859L</th><th>opencred_647L</th><th>paytype1st_925L</th><th>paytype_783L</th><th>payvacationpostpone_4187118D</th><th>pctinstlsallpaidearl3d_427L</th><th>pctinstlsallpaidlat10d_839L</th><th>pctinstlsallpaidlate1d_3546856L</th><th>pctinstlsallpaidlate4d_3546849L</th><th>pctinstlsallpaidlate6d_3546844L</th><th>pmtnum_254L</th><th>posfpd10lastmonth_333P</th><th>posfpd30lastmonth_3976960P</th><th>posfstqpd30lastmonth_3976962P</th><th>previouscontdistrict_112M</th><th>price_1097A</th><th>sellerplacecnt_915L</th><th>sellerplacescnt_216L</th><th>sumoutstandtotal_3546847A</th><th>sumoutstandtotalest_4493215A</th><th>totaldebt_9A</th><th>totalsettled_863A</th><th>totinstallast1m_4525188A</th><th>twobodfilling_608L</th><th>typesuite_864L</th><th>validfrom_1069D</th></tr><tr><td>i64</td><td>f64</td><td>f64</td><td>f64</td><td>f64</td><td>f64</td><td>f64</td><td>f64</td><td>f64</td><td>f64</td><td>f64</td><td>f64</td><td>f64</td><td>f64</td><td>f64</td><td>f64</td><td>f64</td><td>f64</td><td>f64</td><td>f64</td><td>str</td><td>str</td><td>f64</td><td>f64</td><td>f64</td><td>f64</td><td>f64</td><td>f64</td><td>f64</td><td>f64</td><td>f64</td><td>f64</td><td>f64</td><td>f64</td><td>f64</td><td>f64</td><td>f64</td><td>&hellip;</td><td>f64</td><td>f64</td><td>f64</td><td>f64</td><td>f64</td><td>f64</td><td>f64</td><td>f64</td><td>f64</td><td>f64</td><td>f64</td><td>f64</td><td>bool</td><td>str</td><td>str</td><td>str</td><td>f64</td><td>f64</td><td>f64</td><td>f64</td><td>f64</td><td>f64</td><td>f64</td><td>f64</td><td>f64</td><td>str</td><td>f64</td><td>f64</td><td>f64</td><td>f64</td><td>f64</td><td>f64</td><td>f64</td><td>f64</td><td>str</td><td>str</td><td>str</td></tr></thead><tbody><tr><td>0</td><td>null</td><td>null</td><td>1917.6</td><td>0.0</td><td>0.0</td><td>0.0</td><td>0.0</td><td>0.0</td><td>0.0</td><td>0.0</td><td>null</td><td>null</td><td>null</td><td>null</td><td>null</td><td>null</td><td>null</td><td>null</td><td>null</td><td>null</td><td>null</td><td>0.0</td><td>0.0</td><td>0.0</td><td>0.0</td><td>0.0</td><td>0.0</td><td>0.0</td><td>null</td><td>0.0</td><td>0.0</td><td>0.0</td><td>0.0</td><td>0.0</td><td>0.0</td><td>0.0</td><td>&hellip;</td><td>null</td><td>null</td><td>null</td><td>null</td><td>null</td><td>null</td><td>null</td><td>null</td><td>null</td><td>0.0</td><td>0.0</td><td>0.0</td><td>null</td><td>&quot;OTHER&quot;</td><td>&quot;OTHER&quot;</td><td>null</td><td>null</td><td>null</td><td>null</td><td>null</td><td>null</td><td>24.0</td><td>0.0</td><td>0.0</td><td>null</td><td>&quot;a55475b1&quot;</td><td>null</td><td>0.0</td><td>0.0</td><td>null</td><td>null</td><td>0.0</td><td>0.0</td><td>null</td><td>&quot;BO&quot;</td><td>null</td><td>null</td></tr><tr><td>1</td><td>null</td><td>null</td><td>3134.0</td><td>0.0</td><td>0.0</td><td>0.0</td><td>0.0</td><td>0.0</td><td>0.0</td><td>0.0</td><td>null</td><td>null</td><td>null</td><td>null</td><td>null</td><td>null</td><td>null</td><td>null</td><td>null</td><td>null</td><td>null</td><td>0.0</td><td>0.0</td><td>0.0</td><td>0.0</td><td>0.0</td><td>0.0</td><td>0.0</td><td>0.0</td><td>3.0</td><td>0.0</td><td>0.0</td><td>0.0</td><td>0.0</td><td>0.0</td><td>0.0</td><td>&hellip;</td><td>null</td><td>null</td><td>null</td><td>null</td><td>null</td><td>null</td><td>null</td><td>null</td><td>null</td><td>0.0</td><td>0.0</td><td>0.0</td><td>null</td><td>&quot;OTHER&quot;</td><td>&quot;OTHER&quot;</td><td>null</td><td>null</td><td>null</td><td>null</td><td>null</td><td>null</td><td>18.0</td><td>0.0</td><td>0.0</td><td>null</td><td>&quot;a55475b1&quot;</td><td>null</td><td>0.0</td><td>0.0</td><td>null</td><td>null</td><td>0.0</td><td>0.0</td><td>null</td><td>&quot;BO&quot;</td><td>null</td><td>null</td></tr><tr><td>2</td><td>null</td><td>null</td><td>4937.0</td><td>0.0</td><td>0.0</td><td>0.0</td><td>0.0</td><td>0.0</td><td>0.0</td><td>0.0</td><td>null</td><td>null</td><td>null</td><td>null</td><td>null</td><td>null</td><td>null</td><td>null</td><td>null</td><td>null</td><td>null</td><td>0.0</td><td>0.0</td><td>0.0</td><td>0.0</td><td>0.0</td><td>0.0</td><td>0.0</td><td>null</td><td>0.0</td><td>0.0</td><td>0.0</td><td>0.0</td><td>0.0</td><td>0.0</td><td>0.0</td><td>&hellip;</td><td>null</td><td>null</td><td>null</td><td>null</td><td>null</td><td>null</td><td>null</td><td>null</td><td>null</td><td>0.0</td><td>0.0</td><td>0.0</td><td>false</td><td>&quot;OTHER&quot;</td><td>&quot;OTHER&quot;</td><td>null</td><td>null</td><td>null</td><td>null</td><td>null</td><td>null</td><td>36.0</td><td>0.0</td><td>0.0</td><td>null</td><td>&quot;a55475b1&quot;</td><td>null</td><td>0.0</td><td>0.0</td><td>null</td><td>null</td><td>0.0</td><td>0.0</td><td>null</td><td>&quot;BO&quot;</td><td>&quot;AL&quot;</td><td>null</td></tr><tr><td>3</td><td>null</td><td>null</td><td>4643.6</td><td>0.0</td><td>0.0</td><td>1.0</td><td>0.0</td><td>2.0</td><td>0.0</td><td>1.0</td><td>null</td><td>null</td><td>null</td><td>null</td><td>null</td><td>null</td><td>null</td><td>null</td><td>null</td><td>null</td><td>null</td><td>0.0</td><td>0.0</td><td>0.0</td><td>0.0</td><td>0.0</td><td>0.0</td><td>1.0</td><td>null</td><td>0.0</td><td>0.0</td><td>0.0</td><td>0.0</td><td>0.0</td><td>0.0</td><td>0.0</td><td>&hellip;</td><td>null</td><td>null</td><td>null</td><td>null</td><td>null</td><td>null</td><td>null</td><td>null</td><td>null</td><td>0.0</td><td>0.0</td><td>1.0</td><td>false</td><td>&quot;OTHER&quot;</td><td>&quot;OTHER&quot;</td><td>null</td><td>null</td><td>null</td><td>null</td><td>null</td><td>null</td><td>12.0</td><td>0.0</td><td>0.0</td><td>null</td><td>&quot;a55475b1&quot;</td><td>null</td><td>1.0</td><td>1.0</td><td>null</td><td>null</td><td>0.0</td><td>0.0</td><td>null</td><td>&quot;BO&quot;</td><td>&quot;AL&quot;</td><td>null</td></tr><tr><td>4</td><td>null</td><td>null</td><td>3390.2</td><td>0.0</td><td>0.0</td><td>1.0</td><td>0.0</td><td>0.0</td><td>0.0</td><td>1.0</td><td>null</td><td>null</td><td>null</td><td>null</td><td>null</td><td>null</td><td>null</td><td>null</td><td>null</td><td>null</td><td>null</td><td>0.0</td><td>0.0</td><td>0.0</td><td>0.0</td><td>0.0</td><td>0.0</td><td>0.0</td><td>null</td><td>0.0</td><td>0.0</td><td>0.0</td><td>0.0</td><td>0.0</td><td>0.0</td><td>0.0</td><td>&hellip;</td><td>null</td><td>null</td><td>null</td><td>null</td><td>null</td><td>null</td><td>null</td><td>null</td><td>null</td><td>0.0</td><td>0.0</td><td>0.0</td><td>false</td><td>&quot;OTHER&quot;</td><td>&quot;OTHER&quot;</td><td>null</td><td>null</td><td>null</td><td>null</td><td>null</td><td>null</td><td>24.0</td><td>0.0</td><td>0.0</td><td>null</td><td>&quot;a55475b1&quot;</td><td>null</td><td>0.0</td><td>0.0</td><td>null</td><td>null</td><td>0.0</td><td>0.0</td><td>null</td><td>&quot;BO&quot;</td><td>&quot;AL&quot;</td><td>null</td></tr><tr><td>&hellip;</td><td>&hellip;</td><td>&hellip;</td><td>&hellip;</td><td>&hellip;</td><td>&hellip;</td><td>&hellip;</td><td>&hellip;</td><td>&hellip;</td><td>&hellip;</td><td>&hellip;</td><td>&hellip;</td><td>&hellip;</td><td>&hellip;</td><td>&hellip;</td><td>&hellip;</td><td>&hellip;</td><td>&hellip;</td><td>&hellip;</td><td>&hellip;</td><td>&hellip;</td><td>&hellip;</td><td>&hellip;</td><td>&hellip;</td><td>&hellip;</td><td>&hellip;</td><td>&hellip;</td><td>&hellip;</td><td>&hellip;</td><td>&hellip;</td><td>&hellip;</td><td>&hellip;</td><td>&hellip;</td><td>&hellip;</td><td>&hellip;</td><td>&hellip;</td><td>&hellip;</td><td>&hellip;</td><td>&hellip;</td><td>&hellip;</td><td>&hellip;</td><td>&hellip;</td><td>&hellip;</td><td>&hellip;</td><td>&hellip;</td><td>&hellip;</td><td>&hellip;</td><td>&hellip;</td><td>&hellip;</td><td>&hellip;</td><td>&hellip;</td><td>&hellip;</td><td>&hellip;</td><td>&hellip;</td><td>&hellip;</td><td>&hellip;</td><td>&hellip;</td><td>&hellip;</td><td>&hellip;</td><td>&hellip;</td><td>&hellip;</td><td>&hellip;</td><td>&hellip;</td><td>&hellip;</td><td>&hellip;</td><td>&hellip;</td><td>&hellip;</td><td>&hellip;</td><td>&hellip;</td><td>&hellip;</td><td>&hellip;</td><td>&hellip;</td><td>&hellip;</td><td>&hellip;</td><td>&hellip;</td></tr><tr><td>2651088</td><td>0.0</td><td>117624.79</td><td>3045.0</td><td>4488.0</td><td>0.0</td><td>0.0</td><td>0.0</td><td>0.0</td><td>0.0</td><td>0.0</td><td>-2.0</td><td>-1.0</td><td>-2.0</td><td>0.0</td><td>4901.0</td><td>null</td><td>0.0</td><td>58305.145</td><td>5617.6</td><td>null</td><td>&quot;INSTANT&quot;</td><td>0.0</td><td>0.0</td><td>0.0</td><td>0.0</td><td>0.0</td><td>2.0</td><td>0.0</td><td>null</td><td>0.0</td><td>0.0</td><td>0.0</td><td>0.0</td><td>0.0</td><td>0.0</td><td>0.0</td><td>&hellip;</td><td>14.0</td><td>14.0</td><td>0.0</td><td>77.0</td><td>77.0</td><td>10.0</td><td>10.0</td><td>10.0</td><td>10.0</td><td>0.0</td><td>0.0</td><td>0.0</td><td>false</td><td>&quot;OTHER&quot;</td><td>&quot;OTHER&quot;</td><td>null</td><td>0.4026</td><td>0.0</td><td>0.0</td><td>0.0</td><td>0.0</td><td>null</td><td>0.0</td><td>0.0</td><td>0.0</td><td>&quot;P178_112_160&quot;</td><td>null</td><td>0.0</td><td>0.0</td><td>44848.0</td><td>44848.0</td><td>44848.0</td><td>199664.67</td><td>8976.0</td><td>&quot;FO&quot;</td><td>null</td><td>&quot;2019-11-12&quot;</td></tr><tr><td>2651089</td><td>0.0</td><td>134887.4</td><td>1200.0</td><td>4382.8003</td><td>0.0</td><td>0.0</td><td>0.0</td><td>0.0</td><td>0.0</td><td>11.0</td><td>-2.0</td><td>-1.0</td><td>-1.0</td><td>0.0</td><td>6744.4</td><td>52592.0</td><td>0.0</td><td>45992.0</td><td>6118.8003</td><td>null</td><td>&quot;INSTANT&quot;</td><td>0.0</td><td>0.0</td><td>0.0</td><td>0.0</td><td>0.0</td><td>0.0</td><td>0.0</td><td>null</td><td>0.0</td><td>0.0</td><td>0.0</td><td>0.0</td><td>0.0</td><td>0.0</td><td>0.0</td><td>&hellip;</td><td>5.0</td><td>3.0</td><td>2.0</td><td>35.0</td><td>35.0</td><td>9.0</td><td>9.0</td><td>9.0</td><td>9.0</td><td>0.0</td><td>0.0</td><td>0.0</td><td>false</td><td>&quot;OTHER&quot;</td><td>&quot;OTHER&quot;</td><td>null</td><td>0.25714</td><td>0.0</td><td>0.05714</td><td>0.0</td><td>0.0</td><td>null</td><td>0.0</td><td>0.0</td><td>0.0</td><td>&quot;P173_115_85&quot;</td><td>0.0</td><td>0.0</td><td>10.0</td><td>39392.0</td><td>39392.0</td><td>39392.0</td><td>209840.0</td><td>8765.601</td><td>&quot;FO&quot;</td><td>null</td><td>&quot;2019-11-12&quot;</td></tr><tr><td>2651090</td><td>0.0</td><td>69186.62</td><td>6000.0</td><td>0.0</td><td>0.0</td><td>0.0</td><td>0.0</td><td>0.0</td><td>0.0</td><td>0.0</td><td>-16.0</td><td>null</td><td>-16.0</td><td>0.0</td><td>6289.6</td><td>null</td><td>null</td><td>null</td><td>null</td><td>null</td><td>&quot;INSTANT&quot;</td><td>0.0</td><td>0.0</td><td>0.0</td><td>0.0</td><td>0.0</td><td>0.0</td><td>0.0</td><td>null</td><td>0.0</td><td>0.0</td><td>0.0</td><td>0.0</td><td>0.0</td><td>0.0</td><td>0.0</td><td>&hellip;</td><td>18.0</td><td>11.0</td><td>0.0</td><td>20.0</td><td>20.0</td><td>0.0</td><td>0.0</td><td>0.0</td><td>0.0</td><td>0.0</td><td>0.0</td><td>0.0</td><td>false</td><td>&quot;OTHER&quot;</td><td>&quot;OTHER&quot;</td><td>null</td><td>0.9</td><td>0.0</td><td>0.0</td><td>0.0</td><td>0.0</td><td>null</td><td>0.0</td><td>0.0</td><td>0.0</td><td>&quot;P178_112_160&quot;</td><td>0.0</td><td>0.0</td><td>0.0</td><td>0.0</td><td>0.0</td><td>0.0</td><td>76455.62</td><td>null</td><td>&quot;FO&quot;</td><td>null</td><td>&quot;2019-11-12&quot;</td></tr><tr><td>2651091</td><td>0.0</td><td>117331.0</td><td>11565.4</td><td>13781.2</td><td>0.0</td><td>0.0</td><td>0.0</td><td>0.0</td><td>0.0</td><td>2.0</td><td>-6.0</td><td>0.0</td><td>-6.0</td><td>0.0</td><td>7333.2</td><td>null</td><td>0.0</td><td>89476.234</td><td>13781.2</td><td>&quot;CA&quot;</td><td>null</td><td>0.0</td><td>0.0</td><td>0.0</td><td>0.0</td><td>0.0</td><td>0.0</td><td>0.0</td><td>null</td><td>0.0</td><td>0.0</td><td>0.0</td><td>0.0</td><td>0.0</td><td>0.0</td><td>0.0</td><td>&hellip;</td><td>29.0</td><td>7.0</td><td>0.0</td><td>37.0</td><td>37.0</td><td>4.0</td><td>4.0</td><td>4.0</td><td>4.0</td><td>0.0</td><td>0.0</td><td>0.0</td><td>false</td><td>&quot;OTHER&quot;</td><td>&quot;OTHER&quot;</td><td>null</td><td>0.78378</td><td>0.0</td><td>0.0</td><td>0.0</td><td>0.0</td><td>24.0</td><td>0.0</td><td>0.0</td><td>0.0</td><td>&quot;P121_97_69&quot;</td><td>null</td><td>0.0</td><td>2.0</td><td>55084.402</td><td>55084.402</td><td>55084.402</td><td>168248.31</td><td>13781.2</td><td>&quot;FO&quot;</td><td>null</td><td>&quot;2019-11-30&quot;</td></tr><tr><td>2651092</td><td>0.0</td><td>44442.2</td><td>3045.0</td><td>3000.0</td><td>0.0</td><td>1.0</td><td>0.0</td><td>0.0</td><td>0.0</td><td>8.0</td><td>-8.0</td><td>null</td><td>-9.0</td><td>0.0</td><td>4444.2</td><td>null</td><td>0.0</td><td>1426.666</td><td>4496.4</td><td>null</td><td>&quot;INSTANT&quot;</td><td>0.0</td><td>0.0</td><td>0.0</td><td>0.0</td><td>0.0</td><td>0.0</td><td>0.0</td><td>null</td><td>0.0</td><td>0.0</td><td>0.0</td><td>0.0</td><td>0.0</td><td>0.0</td><td>0.0</td><td>&hellip;</td><td>33.0</td><td>6.0</td><td>0.0</td><td>48.0</td><td>48.0</td><td>0.0</td><td>0.0</td><td>0.0</td><td>0.0</td><td>1.0</td><td>0.0</td><td>1.0</td><td>true</td><td>&quot;OTHER&quot;</td><td>&quot;OTHER&quot;</td><td>null</td><td>0.79167</td><td>0.0</td><td>0.0</td><td>0.0</td><td>0.0</td><td>null</td><td>0.0</td><td>0.0</td><td>0.0</td><td>&quot;P147_21_170&quot;</td><td>null</td><td>1.0</td><td>5.0</td><td>0.0</td><td>0.0</td><td>53998.0</td><td>187832.88</td><td>null</td><td>&quot;FO&quot;</td><td>&quot;AL&quot;</td><td>&quot;2019-11-12&quot;</td></tr></tbody></table></div>"
      ],
      "text/plain": [
       "shape: (1_003_757, 168)\n",
       "┌─────────┬────────────┬───────────┬───────────┬───┬───────────┬───────────┬───────────┬───────────┐\n",
       "│ case_id ┆ actualdpdt ┆ amtinstpa ┆ annuity_7 ┆ … ┆ totinstal ┆ twobodfil ┆ typesuite ┆ validfrom │\n",
       "│ ---     ┆ olerance_3 ┆ idbefduel ┆ 80A       ┆   ┆ last1m_45 ┆ ling_608L ┆ _864L     ┆ _1069D    │\n",
       "│ i64     ┆ 44P        ┆ 24m_41871 ┆ ---       ┆   ┆ 25188A    ┆ ---       ┆ ---       ┆ ---       │\n",
       "│         ┆ ---        ┆ 15A       ┆ f64       ┆   ┆ ---       ┆ str       ┆ str       ┆ str       │\n",
       "│         ┆ f64        ┆ ---       ┆           ┆   ┆ f64       ┆           ┆           ┆           │\n",
       "│         ┆            ┆ f64       ┆           ┆   ┆           ┆           ┆           ┆           │\n",
       "╞═════════╪════════════╪═══════════╪═══════════╪═══╪═══════════╪═══════════╪═══════════╪═══════════╡\n",
       "│ 0       ┆ null       ┆ null      ┆ 1917.6    ┆ … ┆ null      ┆ BO        ┆ null      ┆ null      │\n",
       "│ 1       ┆ null       ┆ null      ┆ 3134.0    ┆ … ┆ null      ┆ BO        ┆ null      ┆ null      │\n",
       "│ 2       ┆ null       ┆ null      ┆ 4937.0    ┆ … ┆ null      ┆ BO        ┆ AL        ┆ null      │\n",
       "│ 3       ┆ null       ┆ null      ┆ 4643.6    ┆ … ┆ null      ┆ BO        ┆ AL        ┆ null      │\n",
       "│ 4       ┆ null       ┆ null      ┆ 3390.2    ┆ … ┆ null      ┆ BO        ┆ AL        ┆ null      │\n",
       "│ …       ┆ …          ┆ …         ┆ …         ┆ … ┆ …         ┆ …         ┆ …         ┆ …         │\n",
       "│ 2651088 ┆ 0.0        ┆ 117624.79 ┆ 3045.0    ┆ … ┆ 8976.0    ┆ FO        ┆ null      ┆ 2019-11-1 │\n",
       "│         ┆            ┆           ┆           ┆   ┆           ┆           ┆           ┆ 2         │\n",
       "│ 2651089 ┆ 0.0        ┆ 134887.4  ┆ 1200.0    ┆ … ┆ 8765.601  ┆ FO        ┆ null      ┆ 2019-11-1 │\n",
       "│         ┆            ┆           ┆           ┆   ┆           ┆           ┆           ┆ 2         │\n",
       "│ 2651090 ┆ 0.0        ┆ 69186.62  ┆ 6000.0    ┆ … ┆ null      ┆ FO        ┆ null      ┆ 2019-11-1 │\n",
       "│         ┆            ┆           ┆           ┆   ┆           ┆           ┆           ┆ 2         │\n",
       "│ 2651091 ┆ 0.0        ┆ 117331.0  ┆ 11565.4   ┆ … ┆ 13781.2   ┆ FO        ┆ null      ┆ 2019-11-3 │\n",
       "│         ┆            ┆           ┆           ┆   ┆           ┆           ┆           ┆ 0         │\n",
       "│ 2651092 ┆ 0.0        ┆ 44442.2   ┆ 3045.0    ┆ … ┆ null      ┆ FO        ┆ AL        ┆ 2019-11-1 │\n",
       "│         ┆            ┆           ┆           ┆   ┆           ┆           ┆           ┆ 2         │\n",
       "└─────────┴────────────┴───────────┴───────────┴───┴───────────┴───────────┴───────────┴───────────┘"
      ]
     },
     "execution_count": 137,
     "metadata": {},
     "output_type": "execute_result"
    }
   ],
   "source": [
    "d0[\"train_static_0_0_df\"]"
   ]
  },
  {
   "cell_type": "code",
   "execution_count": 139,
   "id": "8fe63389-900f-4c3d-8ec5-f901b23f46ee",
   "metadata": {},
   "outputs": [
    {
     "data": {
      "text/html": [
       "<div><style>\n",
       ".dataframe > thead > tr,\n",
       ".dataframe > tbody > tr {\n",
       "  text-align: right;\n",
       "  white-space: pre-wrap;\n",
       "}\n",
       "</style>\n",
       "<small>shape: (5, 168)</small><table border=\"1\" class=\"dataframe\"><thead><tr><th>case_id</th><th>actualdpdtolerance_344P</th><th>amtinstpaidbefduel24m_4187115A</th><th>annuity_780A</th><th>annuitynextmonth_57A</th><th>applicationcnt_361L</th><th>applications30d_658L</th><th>applicationscnt_1086L</th><th>applicationscnt_464L</th><th>applicationscnt_629L</th><th>applicationscnt_867L</th><th>avgdbddpdlast24m_3658932P</th><th>avgdbddpdlast3m_4187120P</th><th>avgdbdtollast24m_4525197P</th><th>avgdpdtolclosure24_3658938P</th><th>avginstallast24m_3658937A</th><th>avglnamtstart24m_4525187A</th><th>avgmaxdpdlast9m_3716943P</th><th>avgoutstandbalancel6m_4187114A</th><th>avgpmtlast12m_4525200A</th><th>bankacctype_710L</th><th>cardtype_51L</th><th>clientscnt12m_3712952L</th><th>clientscnt3m_3712950L</th><th>clientscnt6m_3712949L</th><th>clientscnt_100L</th><th>clientscnt_1022L</th><th>clientscnt_1071L</th><th>clientscnt_1130L</th><th>clientscnt_136L</th><th>clientscnt_157L</th><th>clientscnt_257L</th><th>clientscnt_304L</th><th>clientscnt_360L</th><th>clientscnt_493L</th><th>clientscnt_533L</th><th>clientscnt_887L</th><th>&hellip;</th><th>numinstpaidearlyest_4493214L</th><th>numinstpaidlastcontr_4325080L</th><th>numinstpaidlate1d_3546852L</th><th>numinstregularpaid_973L</th><th>numinstregularpaidest_4493210L</th><th>numinsttopaygr_769L</th><th>numinsttopaygrest_4493213L</th><th>numinstunpaidmax_3546851L</th><th>numinstunpaidmaxest_4493212L</th><th>numnotactivated_1143L</th><th>numpmtchanneldd_318L</th><th>numrejects9m_859L</th><th>opencred_647L</th><th>paytype1st_925L</th><th>paytype_783L</th><th>payvacationpostpone_4187118D</th><th>pctinstlsallpaidearl3d_427L</th><th>pctinstlsallpaidlat10d_839L</th><th>pctinstlsallpaidlate1d_3546856L</th><th>pctinstlsallpaidlate4d_3546849L</th><th>pctinstlsallpaidlate6d_3546844L</th><th>pmtnum_254L</th><th>posfpd10lastmonth_333P</th><th>posfpd30lastmonth_3976960P</th><th>posfstqpd30lastmonth_3976962P</th><th>previouscontdistrict_112M</th><th>price_1097A</th><th>sellerplacecnt_915L</th><th>sellerplacescnt_216L</th><th>sumoutstandtotal_3546847A</th><th>sumoutstandtotalest_4493215A</th><th>totaldebt_9A</th><th>totalsettled_863A</th><th>totinstallast1m_4525188A</th><th>twobodfilling_608L</th><th>typesuite_864L</th><th>validfrom_1069D</th></tr><tr><td>i64</td><td>f64</td><td>f64</td><td>f64</td><td>f64</td><td>f64</td><td>f64</td><td>f64</td><td>f64</td><td>f64</td><td>f64</td><td>f64</td><td>f64</td><td>f64</td><td>f64</td><td>f64</td><td>f64</td><td>f64</td><td>f64</td><td>f64</td><td>str</td><td>str</td><td>f64</td><td>f64</td><td>f64</td><td>f64</td><td>f64</td><td>f64</td><td>f64</td><td>f64</td><td>f64</td><td>f64</td><td>f64</td><td>f64</td><td>f64</td><td>f64</td><td>f64</td><td>&hellip;</td><td>f64</td><td>f64</td><td>f64</td><td>f64</td><td>f64</td><td>f64</td><td>f64</td><td>f64</td><td>f64</td><td>f64</td><td>f64</td><td>f64</td><td>bool</td><td>str</td><td>str</td><td>str</td><td>f64</td><td>f64</td><td>f64</td><td>f64</td><td>f64</td><td>f64</td><td>f64</td><td>f64</td><td>f64</td><td>str</td><td>f64</td><td>f64</td><td>f64</td><td>f64</td><td>f64</td><td>f64</td><td>f64</td><td>f64</td><td>str</td><td>str</td><td>str</td></tr></thead><tbody><tr><td>0</td><td>null</td><td>null</td><td>1917.6</td><td>0.0</td><td>0.0</td><td>0.0</td><td>0.0</td><td>0.0</td><td>0.0</td><td>0.0</td><td>null</td><td>null</td><td>null</td><td>null</td><td>null</td><td>null</td><td>null</td><td>null</td><td>null</td><td>null</td><td>null</td><td>0.0</td><td>0.0</td><td>0.0</td><td>0.0</td><td>0.0</td><td>0.0</td><td>0.0</td><td>null</td><td>0.0</td><td>0.0</td><td>0.0</td><td>0.0</td><td>0.0</td><td>0.0</td><td>0.0</td><td>&hellip;</td><td>null</td><td>null</td><td>null</td><td>null</td><td>null</td><td>null</td><td>null</td><td>null</td><td>null</td><td>0.0</td><td>0.0</td><td>0.0</td><td>null</td><td>&quot;OTHER&quot;</td><td>&quot;OTHER&quot;</td><td>null</td><td>null</td><td>null</td><td>null</td><td>null</td><td>null</td><td>24.0</td><td>0.0</td><td>0.0</td><td>null</td><td>&quot;a55475b1&quot;</td><td>null</td><td>0.0</td><td>0.0</td><td>null</td><td>null</td><td>0.0</td><td>0.0</td><td>null</td><td>&quot;BO&quot;</td><td>null</td><td>null</td></tr><tr><td>1</td><td>null</td><td>null</td><td>3134.0</td><td>0.0</td><td>0.0</td><td>0.0</td><td>0.0</td><td>0.0</td><td>0.0</td><td>0.0</td><td>null</td><td>null</td><td>null</td><td>null</td><td>null</td><td>null</td><td>null</td><td>null</td><td>null</td><td>null</td><td>null</td><td>0.0</td><td>0.0</td><td>0.0</td><td>0.0</td><td>0.0</td><td>0.0</td><td>0.0</td><td>0.0</td><td>3.0</td><td>0.0</td><td>0.0</td><td>0.0</td><td>0.0</td><td>0.0</td><td>0.0</td><td>&hellip;</td><td>null</td><td>null</td><td>null</td><td>null</td><td>null</td><td>null</td><td>null</td><td>null</td><td>null</td><td>0.0</td><td>0.0</td><td>0.0</td><td>null</td><td>&quot;OTHER&quot;</td><td>&quot;OTHER&quot;</td><td>null</td><td>null</td><td>null</td><td>null</td><td>null</td><td>null</td><td>18.0</td><td>0.0</td><td>0.0</td><td>null</td><td>&quot;a55475b1&quot;</td><td>null</td><td>0.0</td><td>0.0</td><td>null</td><td>null</td><td>0.0</td><td>0.0</td><td>null</td><td>&quot;BO&quot;</td><td>null</td><td>null</td></tr><tr><td>2</td><td>null</td><td>null</td><td>4937.0</td><td>0.0</td><td>0.0</td><td>0.0</td><td>0.0</td><td>0.0</td><td>0.0</td><td>0.0</td><td>null</td><td>null</td><td>null</td><td>null</td><td>null</td><td>null</td><td>null</td><td>null</td><td>null</td><td>null</td><td>null</td><td>0.0</td><td>0.0</td><td>0.0</td><td>0.0</td><td>0.0</td><td>0.0</td><td>0.0</td><td>null</td><td>0.0</td><td>0.0</td><td>0.0</td><td>0.0</td><td>0.0</td><td>0.0</td><td>0.0</td><td>&hellip;</td><td>null</td><td>null</td><td>null</td><td>null</td><td>null</td><td>null</td><td>null</td><td>null</td><td>null</td><td>0.0</td><td>0.0</td><td>0.0</td><td>false</td><td>&quot;OTHER&quot;</td><td>&quot;OTHER&quot;</td><td>null</td><td>null</td><td>null</td><td>null</td><td>null</td><td>null</td><td>36.0</td><td>0.0</td><td>0.0</td><td>null</td><td>&quot;a55475b1&quot;</td><td>null</td><td>0.0</td><td>0.0</td><td>null</td><td>null</td><td>0.0</td><td>0.0</td><td>null</td><td>&quot;BO&quot;</td><td>&quot;AL&quot;</td><td>null</td></tr><tr><td>3</td><td>null</td><td>null</td><td>4643.6</td><td>0.0</td><td>0.0</td><td>1.0</td><td>0.0</td><td>2.0</td><td>0.0</td><td>1.0</td><td>null</td><td>null</td><td>null</td><td>null</td><td>null</td><td>null</td><td>null</td><td>null</td><td>null</td><td>null</td><td>null</td><td>0.0</td><td>0.0</td><td>0.0</td><td>0.0</td><td>0.0</td><td>0.0</td><td>1.0</td><td>null</td><td>0.0</td><td>0.0</td><td>0.0</td><td>0.0</td><td>0.0</td><td>0.0</td><td>0.0</td><td>&hellip;</td><td>null</td><td>null</td><td>null</td><td>null</td><td>null</td><td>null</td><td>null</td><td>null</td><td>null</td><td>0.0</td><td>0.0</td><td>1.0</td><td>false</td><td>&quot;OTHER&quot;</td><td>&quot;OTHER&quot;</td><td>null</td><td>null</td><td>null</td><td>null</td><td>null</td><td>null</td><td>12.0</td><td>0.0</td><td>0.0</td><td>null</td><td>&quot;a55475b1&quot;</td><td>null</td><td>1.0</td><td>1.0</td><td>null</td><td>null</td><td>0.0</td><td>0.0</td><td>null</td><td>&quot;BO&quot;</td><td>&quot;AL&quot;</td><td>null</td></tr><tr><td>4</td><td>null</td><td>null</td><td>3390.2</td><td>0.0</td><td>0.0</td><td>1.0</td><td>0.0</td><td>0.0</td><td>0.0</td><td>1.0</td><td>null</td><td>null</td><td>null</td><td>null</td><td>null</td><td>null</td><td>null</td><td>null</td><td>null</td><td>null</td><td>null</td><td>0.0</td><td>0.0</td><td>0.0</td><td>0.0</td><td>0.0</td><td>0.0</td><td>0.0</td><td>null</td><td>0.0</td><td>0.0</td><td>0.0</td><td>0.0</td><td>0.0</td><td>0.0</td><td>0.0</td><td>&hellip;</td><td>null</td><td>null</td><td>null</td><td>null</td><td>null</td><td>null</td><td>null</td><td>null</td><td>null</td><td>0.0</td><td>0.0</td><td>0.0</td><td>false</td><td>&quot;OTHER&quot;</td><td>&quot;OTHER&quot;</td><td>null</td><td>null</td><td>null</td><td>null</td><td>null</td><td>null</td><td>24.0</td><td>0.0</td><td>0.0</td><td>null</td><td>&quot;a55475b1&quot;</td><td>null</td><td>0.0</td><td>0.0</td><td>null</td><td>null</td><td>0.0</td><td>0.0</td><td>null</td><td>&quot;BO&quot;</td><td>&quot;AL&quot;</td><td>null</td></tr></tbody></table></div>"
      ],
      "text/plain": [
       "shape: (5, 168)\n",
       "┌─────────┬────────────┬───────────┬───────────┬───┬───────────┬───────────┬───────────┬───────────┐\n",
       "│ case_id ┆ actualdpdt ┆ amtinstpa ┆ annuity_7 ┆ … ┆ totinstal ┆ twobodfil ┆ typesuite ┆ validfrom │\n",
       "│ ---     ┆ olerance_3 ┆ idbefduel ┆ 80A       ┆   ┆ last1m_45 ┆ ling_608L ┆ _864L     ┆ _1069D    │\n",
       "│ i64     ┆ 44P        ┆ 24m_41871 ┆ ---       ┆   ┆ 25188A    ┆ ---       ┆ ---       ┆ ---       │\n",
       "│         ┆ ---        ┆ 15A       ┆ f64       ┆   ┆ ---       ┆ str       ┆ str       ┆ str       │\n",
       "│         ┆ f64        ┆ ---       ┆           ┆   ┆ f64       ┆           ┆           ┆           │\n",
       "│         ┆            ┆ f64       ┆           ┆   ┆           ┆           ┆           ┆           │\n",
       "╞═════════╪════════════╪═══════════╪═══════════╪═══╪═══════════╪═══════════╪═══════════╪═══════════╡\n",
       "│ 0       ┆ null       ┆ null      ┆ 1917.6    ┆ … ┆ null      ┆ BO        ┆ null      ┆ null      │\n",
       "│ 1       ┆ null       ┆ null      ┆ 3134.0    ┆ … ┆ null      ┆ BO        ┆ null      ┆ null      │\n",
       "│ 2       ┆ null       ┆ null      ┆ 4937.0    ┆ … ┆ null      ┆ BO        ┆ AL        ┆ null      │\n",
       "│ 3       ┆ null       ┆ null      ┆ 4643.6    ┆ … ┆ null      ┆ BO        ┆ AL        ┆ null      │\n",
       "│ 4       ┆ null       ┆ null      ┆ 3390.2    ┆ … ┆ null      ┆ BO        ┆ AL        ┆ null      │\n",
       "└─────────┴────────────┴───────────┴───────────┴───┴───────────┴───────────┴───────────┴───────────┘"
      ]
     },
     "execution_count": 139,
     "metadata": {},
     "output_type": "execute_result"
    }
   ],
   "source": [
    "d0[\"train_static_0_0_df\"].head()"
   ]
  },
  {
   "cell_type": "code",
   "execution_count": 141,
   "id": "59eff0c0-9a50-4e79-bc13-02b151fc05ba",
   "metadata": {},
   "outputs": [
    {
     "data": {
      "text/plain": [
       "(1003757, 168)"
      ]
     },
     "execution_count": 141,
     "metadata": {},
     "output_type": "execute_result"
    }
   ],
   "source": [
    "d0[\"train_static_0_0_df\"].shape"
   ]
  },
  {
   "cell_type": "code",
   "execution_count": 142,
   "id": "3d612593-9fda-40af-9668-bd80a8a4dbca",
   "metadata": {},
   "outputs": [
    {
     "data": {
      "text/plain": [
       "[Int64,\n",
       " Float64,\n",
       " Float64,\n",
       " Float64,\n",
       " Float64,\n",
       " Float64,\n",
       " Float64,\n",
       " Float64,\n",
       " Float64,\n",
       " Float64,\n",
       " Float64,\n",
       " Float64,\n",
       " Float64,\n",
       " Float64,\n",
       " Float64,\n",
       " Float64,\n",
       " Float64,\n",
       " Float64,\n",
       " Float64,\n",
       " Float64,\n",
       " String,\n",
       " String,\n",
       " Float64,\n",
       " Float64,\n",
       " Float64,\n",
       " Float64,\n",
       " Float64,\n",
       " Float64,\n",
       " Float64,\n",
       " Float64,\n",
       " Float64,\n",
       " Float64,\n",
       " Float64,\n",
       " Float64,\n",
       " Float64,\n",
       " Float64,\n",
       " Float64,\n",
       " Float64,\n",
       " Float64,\n",
       " Float64,\n",
       " Float64,\n",
       " Float64,\n",
       " String,\n",
       " Float64,\n",
       " Float64,\n",
       " String,\n",
       " String,\n",
       " String,\n",
       " Float64,\n",
       " Float64,\n",
       " Float64,\n",
       " String,\n",
       " Float64,\n",
       " String,\n",
       " Float64,\n",
       " Boolean,\n",
       " Boolean,\n",
       " String,\n",
       " String,\n",
       " Float64,\n",
       " Float64,\n",
       " String,\n",
       " Float64,\n",
       " Float64,\n",
       " Boolean,\n",
       " Boolean,\n",
       " Boolean,\n",
       " String,\n",
       " String,\n",
       " String,\n",
       " String,\n",
       " Float64,\n",
       " String,\n",
       " String,\n",
       " String,\n",
       " Float64,\n",
       " Float64,\n",
       " Float64,\n",
       " String,\n",
       " String,\n",
       " Float64,\n",
       " String,\n",
       " String,\n",
       " String,\n",
       " String,\n",
       " String,\n",
       " Float64,\n",
       " Float64,\n",
       " Float64,\n",
       " Float64,\n",
       " Float64,\n",
       " Float64,\n",
       " Float64,\n",
       " Float64,\n",
       " Float64,\n",
       " Float64,\n",
       " String,\n",
       " Float64,\n",
       " Float64,\n",
       " Float64,\n",
       " Float64,\n",
       " Float64,\n",
       " Float64,\n",
       " Float64,\n",
       " Float64,\n",
       " Float64,\n",
       " Float64,\n",
       " Float64,\n",
       " Float64,\n",
       " Float64,\n",
       " Float64,\n",
       " Float64,\n",
       " Float64,\n",
       " Float64,\n",
       " Float64,\n",
       " Float64,\n",
       " Float64,\n",
       " Float64,\n",
       " Float64,\n",
       " Float64,\n",
       " Float64,\n",
       " Float64,\n",
       " Float64,\n",
       " Float64,\n",
       " Float64,\n",
       " Float64,\n",
       " Float64,\n",
       " Float64,\n",
       " Float64,\n",
       " Float64,\n",
       " Float64,\n",
       " Float64,\n",
       " Float64,\n",
       " Float64,\n",
       " Float64,\n",
       " Float64,\n",
       " Float64,\n",
       " Float64,\n",
       " Float64,\n",
       " Float64,\n",
       " Float64,\n",
       " Float64,\n",
       " Float64,\n",
       " Boolean,\n",
       " String,\n",
       " String,\n",
       " String,\n",
       " Float64,\n",
       " Float64,\n",
       " Float64,\n",
       " Float64,\n",
       " Float64,\n",
       " Float64,\n",
       " Float64,\n",
       " Float64,\n",
       " Float64,\n",
       " String,\n",
       " Float64,\n",
       " Float64,\n",
       " Float64,\n",
       " Float64,\n",
       " Float64,\n",
       " Float64,\n",
       " Float64,\n",
       " Float64,\n",
       " String,\n",
       " String,\n",
       " String]"
      ]
     },
     "execution_count": 142,
     "metadata": {},
     "output_type": "execute_result"
    }
   ],
   "source": [
    "d0[\"train_static_0_0_df\"].dtypes"
   ]
  },
  {
   "cell_type": "code",
   "execution_count": 143,
   "id": "b646e0a6-04cf-403f-a940-a8147b9bc5ab",
   "metadata": {},
   "outputs": [
    {
     "data": {
      "text/html": [
       "<div><style>\n",
       ".dataframe > thead > tr,\n",
       ".dataframe > tbody > tr {\n",
       "  text-align: right;\n",
       "  white-space: pre-wrap;\n",
       "}\n",
       "</style>\n",
       "<small>shape: (9, 169)</small><table border=\"1\" class=\"dataframe\"><thead><tr><th>statistic</th><th>case_id</th><th>actualdpdtolerance_344P</th><th>amtinstpaidbefduel24m_4187115A</th><th>annuity_780A</th><th>annuitynextmonth_57A</th><th>applicationcnt_361L</th><th>applications30d_658L</th><th>applicationscnt_1086L</th><th>applicationscnt_464L</th><th>applicationscnt_629L</th><th>applicationscnt_867L</th><th>avgdbddpdlast24m_3658932P</th><th>avgdbddpdlast3m_4187120P</th><th>avgdbdtollast24m_4525197P</th><th>avgdpdtolclosure24_3658938P</th><th>avginstallast24m_3658937A</th><th>avglnamtstart24m_4525187A</th><th>avgmaxdpdlast9m_3716943P</th><th>avgoutstandbalancel6m_4187114A</th><th>avgpmtlast12m_4525200A</th><th>bankacctype_710L</th><th>cardtype_51L</th><th>clientscnt12m_3712952L</th><th>clientscnt3m_3712950L</th><th>clientscnt6m_3712949L</th><th>clientscnt_100L</th><th>clientscnt_1022L</th><th>clientscnt_1071L</th><th>clientscnt_1130L</th><th>clientscnt_136L</th><th>clientscnt_157L</th><th>clientscnt_257L</th><th>clientscnt_304L</th><th>clientscnt_360L</th><th>clientscnt_493L</th><th>clientscnt_533L</th><th>&hellip;</th><th>numinstpaidearlyest_4493214L</th><th>numinstpaidlastcontr_4325080L</th><th>numinstpaidlate1d_3546852L</th><th>numinstregularpaid_973L</th><th>numinstregularpaidest_4493210L</th><th>numinsttopaygr_769L</th><th>numinsttopaygrest_4493213L</th><th>numinstunpaidmax_3546851L</th><th>numinstunpaidmaxest_4493212L</th><th>numnotactivated_1143L</th><th>numpmtchanneldd_318L</th><th>numrejects9m_859L</th><th>opencred_647L</th><th>paytype1st_925L</th><th>paytype_783L</th><th>payvacationpostpone_4187118D</th><th>pctinstlsallpaidearl3d_427L</th><th>pctinstlsallpaidlat10d_839L</th><th>pctinstlsallpaidlate1d_3546856L</th><th>pctinstlsallpaidlate4d_3546849L</th><th>pctinstlsallpaidlate6d_3546844L</th><th>pmtnum_254L</th><th>posfpd10lastmonth_333P</th><th>posfpd30lastmonth_3976960P</th><th>posfstqpd30lastmonth_3976962P</th><th>previouscontdistrict_112M</th><th>price_1097A</th><th>sellerplacecnt_915L</th><th>sellerplacescnt_216L</th><th>sumoutstandtotal_3546847A</th><th>sumoutstandtotalest_4493215A</th><th>totaldebt_9A</th><th>totalsettled_863A</th><th>totinstallast1m_4525188A</th><th>twobodfilling_608L</th><th>typesuite_864L</th><th>validfrom_1069D</th></tr><tr><td>str</td><td>f64</td><td>f64</td><td>f64</td><td>f64</td><td>f64</td><td>f64</td><td>f64</td><td>f64</td><td>f64</td><td>f64</td><td>f64</td><td>f64</td><td>f64</td><td>f64</td><td>f64</td><td>f64</td><td>f64</td><td>f64</td><td>f64</td><td>f64</td><td>str</td><td>str</td><td>f64</td><td>f64</td><td>f64</td><td>f64</td><td>f64</td><td>f64</td><td>f64</td><td>f64</td><td>f64</td><td>f64</td><td>f64</td><td>f64</td><td>f64</td><td>f64</td><td>&hellip;</td><td>f64</td><td>f64</td><td>f64</td><td>f64</td><td>f64</td><td>f64</td><td>f64</td><td>f64</td><td>f64</td><td>f64</td><td>f64</td><td>f64</td><td>f64</td><td>str</td><td>str</td><td>str</td><td>f64</td><td>f64</td><td>f64</td><td>f64</td><td>f64</td><td>f64</td><td>f64</td><td>f64</td><td>f64</td><td>str</td><td>f64</td><td>f64</td><td>f64</td><td>f64</td><td>f64</td><td>f64</td><td>f64</td><td>f64</td><td>str</td><td>str</td><td>str</td></tr></thead><tbody><tr><td>&quot;count&quot;</td><td>1.003757e6</td><td>707071.0</td><td>574903.0</td><td>1.003757e6</td><td>1.003755e6</td><td>1.003757e6</td><td>1.003757e6</td><td>1.003757e6</td><td>1.003757e6</td><td>1.003757e6</td><td>1.003757e6</td><td>577626.0</td><td>345754.0</td><td>218032.0</td><td>674485.0</td><td>570036.0</td><td>69807.0</td><td>488464.0</td><td>404763.0</td><td>196447.0</td><td>&quot;304690&quot;</td><td>&quot;125784&quot;</td><td>1.003757e6</td><td>1.003757e6</td><td>1.003757e6</td><td>1.003757e6</td><td>1.003757e6</td><td>1.003757e6</td><td>1.003757e6</td><td>397.0</td><td>1.003757e6</td><td>1.003757e6</td><td>1.003757e6</td><td>1.003757e6</td><td>1.003757e6</td><td>1.003757e6</td><td>&hellip;</td><td>295381.0</td><td>466841.0</td><td>683434.0</td><td>680415.0</td><td>295381.0</td><td>683433.0</td><td>295381.0</td><td>683433.0</td><td>295381.0</td><td>1.003757e6</td><td>1.003757e6</td><td>1.003757e6</td><td>782997.0</td><td>&quot;1002696&quot;</td><td>&quot;1002696&quot;</td><td>&quot;1467&quot;</td><td>679714.0</td><td>677866.0</td><td>679714.0</td><td>678977.0</td><td>678791.0</td><td>975103.0</td><td>984565.0</td><td>939963.0</td><td>911303.0</td><td>&quot;1003757&quot;</td><td>869385.0</td><td>1.003757e6</td><td>1.003757e6</td><td>687938.0</td><td>295381.0</td><td>1.003755e6</td><td>1.003755e6</td><td>138692.0</td><td>&quot;1003712&quot;</td><td>&quot;288520&quot;</td><td>&quot;119405&quot;</td></tr><tr><td>&quot;null_count&quot;</td><td>0.0</td><td>296686.0</td><td>428854.0</td><td>0.0</td><td>2.0</td><td>0.0</td><td>0.0</td><td>0.0</td><td>0.0</td><td>0.0</td><td>0.0</td><td>426131.0</td><td>658003.0</td><td>785725.0</td><td>329272.0</td><td>433721.0</td><td>933950.0</td><td>515293.0</td><td>598994.0</td><td>807310.0</td><td>&quot;699067&quot;</td><td>&quot;877973&quot;</td><td>0.0</td><td>0.0</td><td>0.0</td><td>0.0</td><td>0.0</td><td>0.0</td><td>0.0</td><td>1.00336e6</td><td>0.0</td><td>0.0</td><td>0.0</td><td>0.0</td><td>0.0</td><td>0.0</td><td>&hellip;</td><td>708376.0</td><td>536916.0</td><td>320323.0</td><td>323342.0</td><td>708376.0</td><td>320324.0</td><td>708376.0</td><td>320324.0</td><td>708376.0</td><td>0.0</td><td>0.0</td><td>0.0</td><td>220760.0</td><td>&quot;1061&quot;</td><td>&quot;1061&quot;</td><td>&quot;1002290&quot;</td><td>324043.0</td><td>325891.0</td><td>324043.0</td><td>324780.0</td><td>324966.0</td><td>28654.0</td><td>19192.0</td><td>63794.0</td><td>92454.0</td><td>&quot;0&quot;</td><td>134372.0</td><td>0.0</td><td>0.0</td><td>315819.0</td><td>708376.0</td><td>2.0</td><td>2.0</td><td>865065.0</td><td>&quot;45&quot;</td><td>&quot;715237&quot;</td><td>&quot;884352&quot;</td></tr><tr><td>&quot;mean&quot;</td><td>1.2169e6</td><td>0.054391</td><td>50692.545111</td><td>3875.597633</td><td>1348.498702</td><td>0.000027</td><td>0.126184</td><td>0.420001</td><td>1.238874</td><td>0.316396</td><td>2.54688</td><td>29.615871</td><td>29.94086</td><td>31.970394</td><td>44.529247</td><td>5117.126961</td><td>43699.38738</td><td>0.722608</td><td>44570.301553</td><td>5935.065595</td><td>null</td><td>null</td><td>0.031995</td><td>0.014808</td><td>0.02148</td><td>0.054143</td><td>0.093713</td><td>0.036431</td><td>0.034257</td><td>0.052897</td><td>0.088635</td><td>0.003271</td><td>0.081165</td><td>0.003575</td><td>0.012012</td><td>0.07557</td><td>&hellip;</td><td>14.971081</td><td>7.761349</td><td>5.193795</td><td>26.712168</td><td>30.395283</td><td>5.926073</td><td>5.627281</td><td>5.391901</td><td>5.111564</td><td>0.017951</td><td>0.020354</td><td>0.321495</td><td>0.04301</td><td>null</td><td>null</td><td>null</td><td>0.603788</td><td>0.079324</td><td>0.177496</td><td>0.11338</td><td>0.096961</td><td>17.06412</td><td>0.016051</td><td>0.007732</td><td>0.028932</td><td>null</td><td>33339.94149</td><td>0.153756</td><td>1.449694</td><td>26465.085776</td><td>26060.574366</td><td>18184.05553</td><td>79276.378771</td><td>10576.192565</td><td>null</td><td>null</td><td>null</td></tr><tr><td>&quot;std&quot;</td><td>696462.441593</td><td>8.743984</td><td>65457.938573</td><td>2920.237199</td><td>2687.341477</td><td>0.00931</td><td>0.445815</td><td>2.683453</td><td>10.316434</td><td>2.648092</td><td>3.741651</td><td>316.840868</td><td>363.794183</td><td>328.851273</td><td>315.586404</td><td>6142.688624</td><td>43990.701083</td><td>4.639908</td><td>61632.94976</td><td>8646.086046</td><td>null</td><td>null</td><td>0.27722</td><td>0.22815</td><td>0.248086</td><td>0.288432</td><td>0.418421</td><td>0.195632</td><td>0.245288</td><td>0.35494</td><td>0.594877</td><td>0.060814</td><td>0.838536</td><td>0.063073</td><td>0.656826</td><td>0.282669</td><td>&hellip;</td><td>20.492914</td><td>5.984407</td><td>8.324354</td><td>29.641001</td><td>31.036151</td><td>10.050127</td><td>9.888505</td><td>8.845946</td><td>8.676134</td><td>0.140103</td><td>0.147379</td><td>1.031167</td><td>null</td><td>null</td><td>null</td><td>null</td><td>0.35868</td><td>0.162354</td><td>0.230069</td><td>0.191614</td><td>0.178383</td><td>9.589546</td><td>0.125671</td><td>0.087592</td><td>0.167616</td><td>null</td><td>33206.102117</td><td>0.433778</td><td>1.85999</td><td>55719.209462</td><td>57039.306919</td><td>47798.894601</td><td>125684.140259</td><td>16354.41783</td><td>null</td><td>null</td><td>null</td></tr><tr><td>&quot;min&quot;</td><td>0.0</td><td>0.0</td><td>0.0</td><td>83.0</td><td>0.0</td><td>0.0</td><td>0.0</td><td>0.0</td><td>0.0</td><td>0.0</td><td>0.0</td><td>-1176.0</td><td>-908.0</td><td>-1176.0</td><td>0.0</td><td>0.0</td><td>0.0</td><td>0.0</td><td>-7.5882e6</td><td>0.0</td><td>&quot;CA&quot;</td><td>&quot;INSTANT&quot;</td><td>0.0</td><td>0.0</td><td>0.0</td><td>0.0</td><td>0.0</td><td>0.0</td><td>0.0</td><td>0.0</td><td>0.0</td><td>0.0</td><td>0.0</td><td>0.0</td><td>0.0</td><td>0.0</td><td>&hellip;</td><td>0.0</td><td>0.0</td><td>0.0</td><td>0.0</td><td>0.0</td><td>0.0</td><td>0.0</td><td>0.0</td><td>0.0</td><td>0.0</td><td>0.0</td><td>0.0</td><td>0.0</td><td>&quot;OTHER&quot;</td><td>&quot;OTHER&quot;</td><td>&quot;2018-03-28&quot;</td><td>0.0</td><td>0.0</td><td>0.0</td><td>0.0</td><td>0.0</td><td>3.0</td><td>0.0</td><td>0.0</td><td>0.0</td><td>&quot;P103_91_133&quot;</td><td>0.0</td><td>0.0</td><td>0.0</td><td>-2405.0</td><td>-2405.0</td><td>0.0</td><td>0.0</td><td>0.222</td><td>&quot;BO&quot;</td><td>&quot;AL&quot;</td><td>&quot;2018-09-22&quot;</td></tr><tr><td>&quot;25%&quot;</td><td>725987.0</td><td>0.0</td><td>6453.0</td><td>1895.8</td><td>0.0</td><td>0.0</td><td>0.0</td><td>0.0</td><td>0.0</td><td>0.0</td><td>0.0</td><td>-11.0</td><td>-11.0</td><td>-11.0</td><td>0.0</td><td>2445.0</td><td>15646.2</td><td>0.0</td><td>8864.466</td><td>2451.4001</td><td>null</td><td>null</td><td>0.0</td><td>0.0</td><td>0.0</td><td>0.0</td><td>0.0</td><td>0.0</td><td>0.0</td><td>0.0</td><td>0.0</td><td>0.0</td><td>0.0</td><td>0.0</td><td>0.0</td><td>0.0</td><td>&hellip;</td><td>2.0</td><td>3.0</td><td>0.0</td><td>7.0</td><td>10.0</td><td>0.0</td><td>0.0</td><td>0.0</td><td>0.0</td><td>0.0</td><td>0.0</td><td>0.0</td><td>null</td><td>null</td><td>null</td><td>null</td><td>0.34615</td><td>0.0</td><td>0.0</td><td>0.0</td><td>0.0</td><td>12.0</td><td>0.0</td><td>0.0</td><td>0.0</td><td>null</td><td>13400.0</td><td>0.0</td><td>0.0</td><td>0.0</td><td>0.0</td><td>0.0</td><td>0.0</td><td>3142.4001</td><td>null</td><td>null</td><td>null</td></tr><tr><td>&quot;50%&quot;</td><td>1.3117e6</td><td>0.0</td><td>26937.0</td><td>3000.0</td><td>0.0</td><td>0.0</td><td>0.0</td><td>0.0</td><td>0.0</td><td>0.0</td><td>1.0</td><td>-5.0</td><td>-4.0</td><td>-5.0</td><td>0.0</td><td>3894.0</td><td>27978.0</td><td>0.0</td><td>22685.715</td><td>4114.8003</td><td>null</td><td>null</td><td>0.0</td><td>0.0</td><td>0.0</td><td>0.0</td><td>0.0</td><td>0.0</td><td>0.0</td><td>0.0</td><td>0.0</td><td>0.0</td><td>0.0</td><td>0.0</td><td>0.0</td><td>0.0</td><td>&hellip;</td><td>8.0</td><td>6.0</td><td>2.0</td><td>16.0</td><td>20.0</td><td>0.0</td><td>0.0</td><td>0.0</td><td>0.0</td><td>0.0</td><td>0.0</td><td>0.0</td><td>null</td><td>null</td><td>null</td><td>null</td><td>0.625</td><td>0.0</td><td>0.08333</td><td>0.01042</td><td>0.0</td><td>12.0</td><td>0.0</td><td>0.0</td><td>0.0</td><td>null</td><td>24478.0</td><td>0.0</td><td>1.0</td><td>0.0</td><td>0.0</td><td>0.0</td><td>29780.0</td><td>6008.6</td><td>null</td><td>null</td><td>null</td></tr><tr><td>&quot;75%&quot;</td><td>1.562639e6</td><td>0.0</td><td>68961.2</td><td>4989.8003</td><td>1866.6</td><td>0.0</td><td>0.0</td><td>0.0</td><td>0.0</td><td>0.0</td><td>3.0</td><td>-1.0</td><td>-1.0</td><td>-1.0</td><td>1.0</td><td>6209.6</td><td>54445.6</td><td>0.0</td><td>53911.402</td><td>6977.2</td><td>null</td><td>null</td><td>0.0</td><td>0.0</td><td>0.0</td><td>0.0</td><td>0.0</td><td>0.0</td><td>0.0</td><td>0.0</td><td>0.0</td><td>0.0</td><td>0.0</td><td>0.0</td><td>0.0</td><td>0.0</td><td>&hellip;</td><td>19.0</td><td>12.0</td><td>7.0</td><td>35.0</td><td>40.0</td><td>9.0</td><td>8.0</td><td>8.0</td><td>8.0</td><td>0.0</td><td>0.0</td><td>0.0</td><td>null</td><td>null</td><td>null</td><td>null</td><td>0.85714</td><td>0.08333</td><td>0.2766</td><td>0.15385</td><td>0.11765</td><td>24.0</td><td>0.0</td><td>0.0</td><td>0.0</td><td>null</td><td>43956.0</td><td>0.0</td><td>2.0</td><td>27183.0</td><td>25700.916</td><td>11967.8</td><td>101874.11</td><td>11627.2</td><td>null</td><td>null</td><td>null</td></tr><tr><td>&quot;max&quot;</td><td>2.651092e6</td><td>3676.0</td><td>992476.5</td><td>106007.0</td><td>85620.805</td><td>5.0</td><td>25.0</td><td>443.0</td><td>247.0</td><td>77.0</td><td>97.0</td><td>4467.0</td><td>4467.0</td><td>4467.0</td><td>4467.0</td><td>400000.0</td><td>513520.0</td><td>236.0</td><td>1131135.9</td><td>391795.22</td><td>&quot;CA&quot;</td><td>&quot;PERSONALIZED&quot;</td><td>47.0</td><td>47.0</td><td>47.0</td><td>95.0</td><td>102.0</td><td>11.0</td><td>31.0</td><td>4.0</td><td>241.0</td><td>13.0</td><td>345.0</td><td>8.0</td><td>329.0</td><td>8.0</td><td>&hellip;</td><td>300.0</td><td>74.0</td><td>137.0</td><td>356.0</td><td>341.0</td><td>141.0</td><td>99.0</td><td>67.0</td><td>60.0</td><td>4.0</td><td>4.0</td><td>61.0</td><td>1.0</td><td>&quot;OTHER&quot;</td><td>&quot;OTHER&quot;</td><td>&quot;2019-12-28&quot;</td><td>23.0</td><td>1.11111</td><td>1.0</td><td>2.0</td><td>1.0</td><td>60.0</td><td>1.0</td><td>1.0</td><td>1.0</td><td>&quot;a55475b1&quot;</td><td>761867.44</td><td>8.0</td><td>33.0</td><td>1210629.1</td><td>1085048.1</td><td>1210629.1</td><td>7988198.5</td><td>794899.2</td><td>&quot;FO&quot;</td><td>&quot;AL&quot;</td><td>&quot;2019-12-30&quot;</td></tr></tbody></table></div>"
      ],
      "text/plain": [
       "shape: (9, 169)\n",
       "┌───────────┬───────────┬───────────┬───────────┬───┬───────────┬───────────┬───────────┬──────────┐\n",
       "│ statistic ┆ case_id   ┆ actualdpd ┆ amtinstpa ┆ … ┆ totinstal ┆ twobodfil ┆ typesuite ┆ validfro │\n",
       "│ ---       ┆ ---       ┆ tolerance ┆ idbefduel ┆   ┆ last1m_45 ┆ ling_608L ┆ _864L     ┆ m_1069D  │\n",
       "│ str       ┆ f64       ┆ _344P     ┆ 24m_41871 ┆   ┆ 25188A    ┆ ---       ┆ ---       ┆ ---      │\n",
       "│           ┆           ┆ ---       ┆ 15A       ┆   ┆ ---       ┆ str       ┆ str       ┆ str      │\n",
       "│           ┆           ┆ f64       ┆ ---       ┆   ┆ f64       ┆           ┆           ┆          │\n",
       "│           ┆           ┆           ┆ f64       ┆   ┆           ┆           ┆           ┆          │\n",
       "╞═══════════╪═══════════╪═══════════╪═══════════╪═══╪═══════════╪═══════════╪═══════════╪══════════╡\n",
       "│ count     ┆ 1.003757e ┆ 707071.0  ┆ 574903.0  ┆ … ┆ 138692.0  ┆ 1003712   ┆ 288520    ┆ 119405   │\n",
       "│           ┆ 6         ┆           ┆           ┆   ┆           ┆           ┆           ┆          │\n",
       "│ null_coun ┆ 0.0       ┆ 296686.0  ┆ 428854.0  ┆ … ┆ 865065.0  ┆ 45        ┆ 715237    ┆ 884352   │\n",
       "│ t         ┆           ┆           ┆           ┆   ┆           ┆           ┆           ┆          │\n",
       "│ mean      ┆ 1.2169e6  ┆ 0.054391  ┆ 50692.545 ┆ … ┆ 10576.192 ┆ null      ┆ null      ┆ null     │\n",
       "│           ┆           ┆           ┆ 111       ┆   ┆ 565       ┆           ┆           ┆          │\n",
       "│ std       ┆ 696462.44 ┆ 8.743984  ┆ 65457.938 ┆ … ┆ 16354.417 ┆ null      ┆ null      ┆ null     │\n",
       "│           ┆ 1593      ┆           ┆ 573       ┆   ┆ 83        ┆           ┆           ┆          │\n",
       "│ min       ┆ 0.0       ┆ 0.0       ┆ 0.0       ┆ … ┆ 0.222     ┆ BO        ┆ AL        ┆ 2018-09- │\n",
       "│           ┆           ┆           ┆           ┆   ┆           ┆           ┆           ┆ 22       │\n",
       "│ 25%       ┆ 725987.0  ┆ 0.0       ┆ 6453.0    ┆ … ┆ 3142.4001 ┆ null      ┆ null      ┆ null     │\n",
       "│ 50%       ┆ 1.3117e6  ┆ 0.0       ┆ 26937.0   ┆ … ┆ 6008.6    ┆ null      ┆ null      ┆ null     │\n",
       "│ 75%       ┆ 1.562639e ┆ 0.0       ┆ 68961.2   ┆ … ┆ 11627.2   ┆ null      ┆ null      ┆ null     │\n",
       "│           ┆ 6         ┆           ┆           ┆   ┆           ┆           ┆           ┆          │\n",
       "│ max       ┆ 2.651092e ┆ 3676.0    ┆ 992476.5  ┆ … ┆ 794899.2  ┆ FO        ┆ AL        ┆ 2019-12- │\n",
       "│           ┆ 6         ┆           ┆           ┆   ┆           ┆           ┆           ┆ 30       │\n",
       "└───────────┴───────────┴───────────┴───────────┴───┴───────────┴───────────┴───────────┴──────────┘"
      ]
     },
     "execution_count": 143,
     "metadata": {},
     "output_type": "execute_result"
    }
   ],
   "source": [
    "d0[\"train_static_0_0_df\"].describe()"
   ]
  },
  {
   "cell_type": "code",
   "execution_count": 145,
   "id": "cab99b6c-2ea7-4a53-afdd-abe779c47d75",
   "metadata": {},
   "outputs": [
    {
     "ename": "AttributeError",
     "evalue": "'DataFrame' object has no attribute 'isnull'",
     "output_type": "error",
     "traceback": [
      "\u001b[0;31m---------------------------------------------------------------------------\u001b[0m",
      "\u001b[0;31mAttributeError\u001b[0m                            Traceback (most recent call last)",
      "Cell \u001b[0;32mIn[145], line 1\u001b[0m\n\u001b[0;32m----> 1\u001b[0m \u001b[38;5;28mprint\u001b[39m(\u001b[43md0\u001b[49m\u001b[43m[\u001b[49m\u001b[38;5;124;43m\"\u001b[39;49m\u001b[38;5;124;43mtrain_static_0_0_df\u001b[39;49m\u001b[38;5;124;43m\"\u001b[39;49m\u001b[43m]\u001b[49m\u001b[38;5;241;43m.\u001b[39;49m\u001b[43misnull\u001b[49m()\u001b[38;5;241m.\u001b[39msum())\n",
      "\u001b[0;31mAttributeError\u001b[0m: 'DataFrame' object has no attribute 'isnull'"
     ]
    }
   ],
   "source": [
    "print(d0[\"train_static_0_0_df\"].isnull().sum())"
   ]
  },
  {
   "cell_type": "code",
   "execution_count": 146,
   "id": "dd03f163-c38a-4b3f-96dd-b4c17217a55b",
   "metadata": {},
   "outputs": [
    {
     "name": "stdout",
     "output_type": "stream",
     "text": [
      "['case_id', 'actualdpdtolerance_344P', 'amtinstpaidbefduel24m_4187115A', 'annuity_780A', 'annuitynextmonth_57A', 'applicationcnt_361L', 'applications30d_658L', 'applicationscnt_1086L', 'applicationscnt_464L', 'applicationscnt_629L', 'applicationscnt_867L', 'avgdbddpdlast24m_3658932P', 'avgdbddpdlast3m_4187120P', 'avgdbdtollast24m_4525197P', 'avgdpdtolclosure24_3658938P', 'avginstallast24m_3658937A', 'avglnamtstart24m_4525187A', 'avgmaxdpdlast9m_3716943P', 'avgoutstandbalancel6m_4187114A', 'avgpmtlast12m_4525200A', 'bankacctype_710L', 'cardtype_51L', 'clientscnt12m_3712952L', 'clientscnt3m_3712950L', 'clientscnt6m_3712949L', 'clientscnt_100L', 'clientscnt_1022L', 'clientscnt_1071L', 'clientscnt_1130L', 'clientscnt_136L', 'clientscnt_157L', 'clientscnt_257L', 'clientscnt_304L', 'clientscnt_360L', 'clientscnt_493L', 'clientscnt_533L', 'clientscnt_887L', 'clientscnt_946L', 'cntincpaycont9m_3716944L', 'cntpmts24_3658933L', 'commnoinclast6m_3546845L', 'credamount_770A', 'credtype_322L', 'currdebt_22A', 'currdebtcredtyperange_828A', 'datefirstoffer_1144D', 'datelastinstal40dpd_247D', 'datelastunpaid_3546854D', 'daysoverduetolerancedd_3976961L', 'deferredmnthsnum_166L', 'disbursedcredamount_1113A', 'disbursementtype_67L', 'downpmt_116A', 'dtlastpmtallstes_4499206D', 'eir_270L', 'equalitydataagreement_891L', 'equalityempfrom_62L', 'firstclxcampaign_1125D', 'firstdatedue_489D', 'homephncnt_628L', 'inittransactionamount_650A', 'inittransactioncode_186L', 'interestrate_311L', 'interestrategrace_34L', 'isbidproduct_1095L', 'isbidproductrequest_292L', 'isdebitcard_729L', 'lastactivateddate_801D', 'lastapplicationdate_877D', 'lastapprcommoditycat_1041M', 'lastapprcommoditytypec_5251766M', 'lastapprcredamount_781A', 'lastapprdate_640D', 'lastcancelreason_561M', 'lastdelinqdate_224D', 'lastdependentsnum_448L', 'lastotherinc_902A', 'lastotherlnsexpense_631A', 'lastrejectcommoditycat_161M', 'lastrejectcommodtypec_5251769M', 'lastrejectcredamount_222A', 'lastrejectdate_50D', 'lastrejectreason_759M', 'lastrejectreasonclient_4145040M', 'lastrepayingdate_696D', 'lastst_736L', 'maininc_215A', 'mastercontrelectronic_519L', 'mastercontrexist_109L', 'maxannuity_159A', 'maxannuity_4075009A', 'maxdbddpdlast1m_3658939P', 'maxdbddpdtollast12m_3658940P', 'maxdbddpdtollast6m_4187119P', 'maxdebt4_972A', 'maxdpdfrom6mto36m_3546853P', 'maxdpdinstldate_3546855D', 'maxdpdinstlnum_3546846P', 'maxdpdlast12m_727P', 'maxdpdlast24m_143P', 'maxdpdlast3m_392P', 'maxdpdlast6m_474P', 'maxdpdlast9m_1059P', 'maxdpdtolerance_374P', 'maxinstallast24m_3658928A', 'maxlnamtstart6m_4525199A', 'maxoutstandbalancel12m_4187113A', 'maxpmtlast3m_4525190A', 'mindbddpdlast24m_3658935P', 'mindbdtollast24m_4525191P', 'mobilephncnt_593L', 'monthsannuity_845L', 'numactivecreds_622L', 'numactivecredschannel_414L', 'numactiverelcontr_750L', 'numcontrs3months_479L', 'numincomingpmts_3546848L', 'numinstlallpaidearly3d_817L', 'numinstls_657L', 'numinstlsallpaid_934L', 'numinstlswithdpd10_728L', 'numinstlswithdpd5_4187116L', 'numinstlswithoutdpd_562L', 'numinstmatpaidtearly2d_4499204L', 'numinstpaid_4499208L', 'numinstpaidearly3d_3546850L', 'numinstpaidearly3dest_4493216L', 'numinstpaidearly5d_1087L', 'numinstpaidearly5dest_4493211L', 'numinstpaidearly5dobd_4499205L', 'numinstpaidearly_338L', 'numinstpaidearlyest_4493214L', 'numinstpaidlastcontr_4325080L', 'numinstpaidlate1d_3546852L', 'numinstregularpaid_973L', 'numinstregularpaidest_4493210L', 'numinsttopaygr_769L', 'numinsttopaygrest_4493213L', 'numinstunpaidmax_3546851L', 'numinstunpaidmaxest_4493212L', 'numnotactivated_1143L', 'numpmtchanneldd_318L', 'numrejects9m_859L', 'opencred_647L', 'paytype1st_925L', 'paytype_783L', 'payvacationpostpone_4187118D', 'pctinstlsallpaidearl3d_427L', 'pctinstlsallpaidlat10d_839L', 'pctinstlsallpaidlate1d_3546856L', 'pctinstlsallpaidlate4d_3546849L', 'pctinstlsallpaidlate6d_3546844L', 'pmtnum_254L', 'posfpd10lastmonth_333P', 'posfpd30lastmonth_3976960P', 'posfstqpd30lastmonth_3976962P', 'previouscontdistrict_112M', 'price_1097A', 'sellerplacecnt_915L', 'sellerplacescnt_216L', 'sumoutstandtotal_3546847A', 'sumoutstandtotalest_4493215A', 'totaldebt_9A', 'totalsettled_863A', 'totinstallast1m_4525188A', 'twobodfilling_608L', 'typesuite_864L', 'validfrom_1069D']\n"
     ]
    }
   ],
   "source": [
    "print(d0[\"train_static_0_0_df\"].columns)"
   ]
  },
  {
   "cell_type": "code",
   "execution_count": 147,
   "id": "8cc1aa7a-b76c-4aa6-8840-c24ff5bffb3a",
   "metadata": {},
   "outputs": [
    {
     "name": "stdout",
     "output_type": "stream",
     "text": [
      "[Int64, Float64, Float64, Float64, Float64, Float64, Float64, Float64, Float64, Float64, Float64, Float64, Float64, Float64, Float64, Float64, Float64, Float64, Float64, Float64, String, String, Float64, Float64, Float64, Float64, Float64, Float64, Float64, Float64, Float64, Float64, Float64, Float64, Float64, Float64, Float64, Float64, Float64, Float64, Float64, Float64, String, Float64, Float64, String, String, String, Float64, Float64, Float64, String, Float64, String, Float64, Boolean, Boolean, String, String, Float64, Float64, String, Float64, Float64, Boolean, Boolean, Boolean, String, String, String, String, Float64, String, String, String, Float64, Float64, Float64, String, String, Float64, String, String, String, String, String, Float64, Float64, Float64, Float64, Float64, Float64, Float64, Float64, Float64, Float64, String, Float64, Float64, Float64, Float64, Float64, Float64, Float64, Float64, Float64, Float64, Float64, Float64, Float64, Float64, Float64, Float64, Float64, Float64, Float64, Float64, Float64, Float64, Float64, Float64, Float64, Float64, Float64, Float64, Float64, Float64, Float64, Float64, Float64, Float64, Float64, Float64, Float64, Float64, Float64, Float64, Float64, Float64, Float64, Float64, Float64, Float64, Boolean, String, String, String, Float64, Float64, Float64, Float64, Float64, Float64, Float64, Float64, Float64, String, Float64, Float64, Float64, Float64, Float64, Float64, Float64, Float64, String, String, String]\n"
     ]
    }
   ],
   "source": [
    "print(d0[\"train_static_0_0_df\"].dtypes)"
   ]
  },
  {
   "cell_type": "code",
   "execution_count": null,
   "id": "8db6f6d0-0f40-48ab-9414-8ca2b028f8f8",
   "metadata": {},
   "outputs": [],
   "source": []
  }
 ],
 "metadata": {
  "kernelspec": {
   "display_name": "Python 3 (ipykernel)",
   "language": "python",
   "name": "python3"
  },
  "language_info": {
   "codemirror_mode": {
    "name": "ipython",
    "version": 3
   },
   "file_extension": ".py",
   "mimetype": "text/x-python",
   "name": "python",
   "nbconvert_exporter": "python",
   "pygments_lexer": "ipython3",
   "version": "3.8.18"
  }
 },
 "nbformat": 4,
 "nbformat_minor": 5
}
